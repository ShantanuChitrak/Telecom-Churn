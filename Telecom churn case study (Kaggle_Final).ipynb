{
 "cells": [
  {
   "cell_type": "code",
   "execution_count": 329,
   "id": "79603e47",
   "metadata": {},
   "outputs": [],
   "source": [
    "# Importing required libraries\n",
    "import pandas as pd\n",
    "import numpy as np\n",
    "import seaborn as sns\n",
    "import matplotlib.pyplot as plt\n",
    "import warnings\n",
    "warnings.filterwarnings('ignore')\n",
    "from imblearn.over_sampling import SMOTE"
   ]
  },
  {
   "cell_type": "markdown",
   "id": "dad25a31",
   "metadata": {},
   "source": [
    "# Data Loading and initial understanding"
   ]
  },
  {
   "cell_type": "code",
   "execution_count": 330,
   "id": "f1a0e3ae",
   "metadata": {},
   "outputs": [],
   "source": [
    "# Loading dataset\n",
    "df=pd.read_csv('train.csv')\n",
    "df_test=pd.read_csv('test.csv')"
   ]
  },
  {
   "cell_type": "code",
   "execution_count": 331,
   "id": "1abc90a8",
   "metadata": {},
   "outputs": [
    {
     "data": {
      "text/html": [
       "<div>\n",
       "<style scoped>\n",
       "    .dataframe tbody tr th:only-of-type {\n",
       "        vertical-align: middle;\n",
       "    }\n",
       "\n",
       "    .dataframe tbody tr th {\n",
       "        vertical-align: top;\n",
       "    }\n",
       "\n",
       "    .dataframe thead th {\n",
       "        text-align: right;\n",
       "    }\n",
       "</style>\n",
       "<table border=\"1\" class=\"dataframe\">\n",
       "  <thead>\n",
       "    <tr style=\"text-align: right;\">\n",
       "      <th></th>\n",
       "      <th>id</th>\n",
       "      <th>circle_id</th>\n",
       "      <th>loc_og_t2o_mou</th>\n",
       "      <th>std_og_t2o_mou</th>\n",
       "      <th>loc_ic_t2o_mou</th>\n",
       "      <th>last_date_of_month_6</th>\n",
       "      <th>last_date_of_month_7</th>\n",
       "      <th>last_date_of_month_8</th>\n",
       "      <th>arpu_6</th>\n",
       "      <th>arpu_7</th>\n",
       "      <th>...</th>\n",
       "      <th>sachet_3g_7</th>\n",
       "      <th>sachet_3g_8</th>\n",
       "      <th>fb_user_6</th>\n",
       "      <th>fb_user_7</th>\n",
       "      <th>fb_user_8</th>\n",
       "      <th>aon</th>\n",
       "      <th>aug_vbc_3g</th>\n",
       "      <th>jul_vbc_3g</th>\n",
       "      <th>jun_vbc_3g</th>\n",
       "      <th>churn_probability</th>\n",
       "    </tr>\n",
       "  </thead>\n",
       "  <tbody>\n",
       "    <tr>\n",
       "      <th>0</th>\n",
       "      <td>0</td>\n",
       "      <td>109</td>\n",
       "      <td>0.0</td>\n",
       "      <td>0.0</td>\n",
       "      <td>0.0</td>\n",
       "      <td>6/30/2014</td>\n",
       "      <td>7/31/2014</td>\n",
       "      <td>8/31/2014</td>\n",
       "      <td>31.277</td>\n",
       "      <td>87.009</td>\n",
       "      <td>...</td>\n",
       "      <td>0</td>\n",
       "      <td>0</td>\n",
       "      <td>NaN</td>\n",
       "      <td>NaN</td>\n",
       "      <td>NaN</td>\n",
       "      <td>1958</td>\n",
       "      <td>0.0</td>\n",
       "      <td>0.0</td>\n",
       "      <td>0.0</td>\n",
       "      <td>0</td>\n",
       "    </tr>\n",
       "    <tr>\n",
       "      <th>1</th>\n",
       "      <td>1</td>\n",
       "      <td>109</td>\n",
       "      <td>0.0</td>\n",
       "      <td>0.0</td>\n",
       "      <td>0.0</td>\n",
       "      <td>6/30/2014</td>\n",
       "      <td>7/31/2014</td>\n",
       "      <td>8/31/2014</td>\n",
       "      <td>0.000</td>\n",
       "      <td>122.787</td>\n",
       "      <td>...</td>\n",
       "      <td>0</td>\n",
       "      <td>0</td>\n",
       "      <td>NaN</td>\n",
       "      <td>1.0</td>\n",
       "      <td>NaN</td>\n",
       "      <td>710</td>\n",
       "      <td>0.0</td>\n",
       "      <td>0.0</td>\n",
       "      <td>0.0</td>\n",
       "      <td>0</td>\n",
       "    </tr>\n",
       "    <tr>\n",
       "      <th>2</th>\n",
       "      <td>2</td>\n",
       "      <td>109</td>\n",
       "      <td>0.0</td>\n",
       "      <td>0.0</td>\n",
       "      <td>0.0</td>\n",
       "      <td>6/30/2014</td>\n",
       "      <td>7/31/2014</td>\n",
       "      <td>8/31/2014</td>\n",
       "      <td>60.806</td>\n",
       "      <td>103.176</td>\n",
       "      <td>...</td>\n",
       "      <td>0</td>\n",
       "      <td>0</td>\n",
       "      <td>NaN</td>\n",
       "      <td>NaN</td>\n",
       "      <td>NaN</td>\n",
       "      <td>882</td>\n",
       "      <td>0.0</td>\n",
       "      <td>0.0</td>\n",
       "      <td>0.0</td>\n",
       "      <td>0</td>\n",
       "    </tr>\n",
       "    <tr>\n",
       "      <th>3</th>\n",
       "      <td>3</td>\n",
       "      <td>109</td>\n",
       "      <td>0.0</td>\n",
       "      <td>0.0</td>\n",
       "      <td>0.0</td>\n",
       "      <td>6/30/2014</td>\n",
       "      <td>7/31/2014</td>\n",
       "      <td>8/31/2014</td>\n",
       "      <td>156.362</td>\n",
       "      <td>205.260</td>\n",
       "      <td>...</td>\n",
       "      <td>0</td>\n",
       "      <td>0</td>\n",
       "      <td>NaN</td>\n",
       "      <td>NaN</td>\n",
       "      <td>NaN</td>\n",
       "      <td>982</td>\n",
       "      <td>0.0</td>\n",
       "      <td>0.0</td>\n",
       "      <td>0.0</td>\n",
       "      <td>0</td>\n",
       "    </tr>\n",
       "    <tr>\n",
       "      <th>4</th>\n",
       "      <td>4</td>\n",
       "      <td>109</td>\n",
       "      <td>0.0</td>\n",
       "      <td>0.0</td>\n",
       "      <td>0.0</td>\n",
       "      <td>6/30/2014</td>\n",
       "      <td>7/31/2014</td>\n",
       "      <td>8/31/2014</td>\n",
       "      <td>240.708</td>\n",
       "      <td>128.191</td>\n",
       "      <td>...</td>\n",
       "      <td>1</td>\n",
       "      <td>0</td>\n",
       "      <td>1.0</td>\n",
       "      <td>1.0</td>\n",
       "      <td>1.0</td>\n",
       "      <td>647</td>\n",
       "      <td>0.0</td>\n",
       "      <td>0.0</td>\n",
       "      <td>0.0</td>\n",
       "      <td>0</td>\n",
       "    </tr>\n",
       "  </tbody>\n",
       "</table>\n",
       "<p>5 rows × 172 columns</p>\n",
       "</div>"
      ],
      "text/plain": [
       "   id  circle_id  loc_og_t2o_mou  std_og_t2o_mou  loc_ic_t2o_mou  \\\n",
       "0   0        109             0.0             0.0             0.0   \n",
       "1   1        109             0.0             0.0             0.0   \n",
       "2   2        109             0.0             0.0             0.0   \n",
       "3   3        109             0.0             0.0             0.0   \n",
       "4   4        109             0.0             0.0             0.0   \n",
       "\n",
       "  last_date_of_month_6 last_date_of_month_7 last_date_of_month_8   arpu_6  \\\n",
       "0            6/30/2014            7/31/2014            8/31/2014   31.277   \n",
       "1            6/30/2014            7/31/2014            8/31/2014    0.000   \n",
       "2            6/30/2014            7/31/2014            8/31/2014   60.806   \n",
       "3            6/30/2014            7/31/2014            8/31/2014  156.362   \n",
       "4            6/30/2014            7/31/2014            8/31/2014  240.708   \n",
       "\n",
       "    arpu_7  ...  sachet_3g_7  sachet_3g_8  fb_user_6  fb_user_7  fb_user_8  \\\n",
       "0   87.009  ...            0            0        NaN        NaN        NaN   \n",
       "1  122.787  ...            0            0        NaN        1.0        NaN   \n",
       "2  103.176  ...            0            0        NaN        NaN        NaN   \n",
       "3  205.260  ...            0            0        NaN        NaN        NaN   \n",
       "4  128.191  ...            1            0        1.0        1.0        1.0   \n",
       "\n",
       "    aon  aug_vbc_3g  jul_vbc_3g  jun_vbc_3g  churn_probability  \n",
       "0  1958         0.0         0.0         0.0                  0  \n",
       "1   710         0.0         0.0         0.0                  0  \n",
       "2   882         0.0         0.0         0.0                  0  \n",
       "3   982         0.0         0.0         0.0                  0  \n",
       "4   647         0.0         0.0         0.0                  0  \n",
       "\n",
       "[5 rows x 172 columns]"
      ]
     },
     "execution_count": 331,
     "metadata": {},
     "output_type": "execute_result"
    }
   ],
   "source": [
    "# Printing 1st 5 rows of train dataset\n",
    "df.head()"
   ]
  },
  {
   "cell_type": "code",
   "execution_count": 332,
   "id": "3776283a",
   "metadata": {},
   "outputs": [
    {
     "data": {
      "text/html": [
       "<div>\n",
       "<style scoped>\n",
       "    .dataframe tbody tr th:only-of-type {\n",
       "        vertical-align: middle;\n",
       "    }\n",
       "\n",
       "    .dataframe tbody tr th {\n",
       "        vertical-align: top;\n",
       "    }\n",
       "\n",
       "    .dataframe thead th {\n",
       "        text-align: right;\n",
       "    }\n",
       "</style>\n",
       "<table border=\"1\" class=\"dataframe\">\n",
       "  <thead>\n",
       "    <tr style=\"text-align: right;\">\n",
       "      <th></th>\n",
       "      <th>id</th>\n",
       "      <th>circle_id</th>\n",
       "      <th>loc_og_t2o_mou</th>\n",
       "      <th>std_og_t2o_mou</th>\n",
       "      <th>loc_ic_t2o_mou</th>\n",
       "      <th>last_date_of_month_6</th>\n",
       "      <th>last_date_of_month_7</th>\n",
       "      <th>last_date_of_month_8</th>\n",
       "      <th>arpu_6</th>\n",
       "      <th>arpu_7</th>\n",
       "      <th>...</th>\n",
       "      <th>sachet_3g_6</th>\n",
       "      <th>sachet_3g_7</th>\n",
       "      <th>sachet_3g_8</th>\n",
       "      <th>fb_user_6</th>\n",
       "      <th>fb_user_7</th>\n",
       "      <th>fb_user_8</th>\n",
       "      <th>aon</th>\n",
       "      <th>aug_vbc_3g</th>\n",
       "      <th>jul_vbc_3g</th>\n",
       "      <th>jun_vbc_3g</th>\n",
       "    </tr>\n",
       "  </thead>\n",
       "  <tbody>\n",
       "    <tr>\n",
       "      <th>0</th>\n",
       "      <td>69999</td>\n",
       "      <td>109</td>\n",
       "      <td>0.0</td>\n",
       "      <td>0.0</td>\n",
       "      <td>0.0</td>\n",
       "      <td>6/30/2014</td>\n",
       "      <td>7/31/2014</td>\n",
       "      <td>8/31/2014</td>\n",
       "      <td>91.882</td>\n",
       "      <td>65.330</td>\n",
       "      <td>...</td>\n",
       "      <td>0</td>\n",
       "      <td>0</td>\n",
       "      <td>0</td>\n",
       "      <td>NaN</td>\n",
       "      <td>NaN</td>\n",
       "      <td>NaN</td>\n",
       "      <td>1692</td>\n",
       "      <td>0.00</td>\n",
       "      <td>0.00</td>\n",
       "      <td>0.00</td>\n",
       "    </tr>\n",
       "    <tr>\n",
       "      <th>1</th>\n",
       "      <td>70000</td>\n",
       "      <td>109</td>\n",
       "      <td>0.0</td>\n",
       "      <td>0.0</td>\n",
       "      <td>0.0</td>\n",
       "      <td>6/30/2014</td>\n",
       "      <td>7/31/2014</td>\n",
       "      <td>8/31/2014</td>\n",
       "      <td>414.168</td>\n",
       "      <td>515.568</td>\n",
       "      <td>...</td>\n",
       "      <td>0</td>\n",
       "      <td>0</td>\n",
       "      <td>0</td>\n",
       "      <td>NaN</td>\n",
       "      <td>NaN</td>\n",
       "      <td>NaN</td>\n",
       "      <td>2533</td>\n",
       "      <td>0.00</td>\n",
       "      <td>0.00</td>\n",
       "      <td>0.00</td>\n",
       "    </tr>\n",
       "    <tr>\n",
       "      <th>2</th>\n",
       "      <td>70001</td>\n",
       "      <td>109</td>\n",
       "      <td>0.0</td>\n",
       "      <td>0.0</td>\n",
       "      <td>0.0</td>\n",
       "      <td>6/30/2014</td>\n",
       "      <td>7/31/2014</td>\n",
       "      <td>8/31/2014</td>\n",
       "      <td>329.844</td>\n",
       "      <td>434.884</td>\n",
       "      <td>...</td>\n",
       "      <td>0</td>\n",
       "      <td>0</td>\n",
       "      <td>0</td>\n",
       "      <td>NaN</td>\n",
       "      <td>NaN</td>\n",
       "      <td>NaN</td>\n",
       "      <td>277</td>\n",
       "      <td>525.61</td>\n",
       "      <td>758.41</td>\n",
       "      <td>241.84</td>\n",
       "    </tr>\n",
       "    <tr>\n",
       "      <th>3</th>\n",
       "      <td>70002</td>\n",
       "      <td>109</td>\n",
       "      <td>0.0</td>\n",
       "      <td>0.0</td>\n",
       "      <td>0.0</td>\n",
       "      <td>6/30/2014</td>\n",
       "      <td>7/31/2014</td>\n",
       "      <td>8/31/2014</td>\n",
       "      <td>43.550</td>\n",
       "      <td>171.390</td>\n",
       "      <td>...</td>\n",
       "      <td>0</td>\n",
       "      <td>0</td>\n",
       "      <td>0</td>\n",
       "      <td>NaN</td>\n",
       "      <td>NaN</td>\n",
       "      <td>NaN</td>\n",
       "      <td>1244</td>\n",
       "      <td>0.00</td>\n",
       "      <td>0.00</td>\n",
       "      <td>0.00</td>\n",
       "    </tr>\n",
       "    <tr>\n",
       "      <th>4</th>\n",
       "      <td>70003</td>\n",
       "      <td>109</td>\n",
       "      <td>0.0</td>\n",
       "      <td>0.0</td>\n",
       "      <td>0.0</td>\n",
       "      <td>6/30/2014</td>\n",
       "      <td>7/31/2014</td>\n",
       "      <td>8/31/2014</td>\n",
       "      <td>306.854</td>\n",
       "      <td>406.289</td>\n",
       "      <td>...</td>\n",
       "      <td>0</td>\n",
       "      <td>0</td>\n",
       "      <td>0</td>\n",
       "      <td>NaN</td>\n",
       "      <td>NaN</td>\n",
       "      <td>NaN</td>\n",
       "      <td>462</td>\n",
       "      <td>0.00</td>\n",
       "      <td>0.00</td>\n",
       "      <td>0.00</td>\n",
       "    </tr>\n",
       "  </tbody>\n",
       "</table>\n",
       "<p>5 rows × 171 columns</p>\n",
       "</div>"
      ],
      "text/plain": [
       "      id  circle_id  loc_og_t2o_mou  std_og_t2o_mou  loc_ic_t2o_mou  \\\n",
       "0  69999        109             0.0             0.0             0.0   \n",
       "1  70000        109             0.0             0.0             0.0   \n",
       "2  70001        109             0.0             0.0             0.0   \n",
       "3  70002        109             0.0             0.0             0.0   \n",
       "4  70003        109             0.0             0.0             0.0   \n",
       "\n",
       "  last_date_of_month_6 last_date_of_month_7 last_date_of_month_8   arpu_6  \\\n",
       "0            6/30/2014            7/31/2014            8/31/2014   91.882   \n",
       "1            6/30/2014            7/31/2014            8/31/2014  414.168   \n",
       "2            6/30/2014            7/31/2014            8/31/2014  329.844   \n",
       "3            6/30/2014            7/31/2014            8/31/2014   43.550   \n",
       "4            6/30/2014            7/31/2014            8/31/2014  306.854   \n",
       "\n",
       "    arpu_7  ...  sachet_3g_6  sachet_3g_7  sachet_3g_8  fb_user_6  fb_user_7  \\\n",
       "0   65.330  ...            0            0            0        NaN        NaN   \n",
       "1  515.568  ...            0            0            0        NaN        NaN   \n",
       "2  434.884  ...            0            0            0        NaN        NaN   \n",
       "3  171.390  ...            0            0            0        NaN        NaN   \n",
       "4  406.289  ...            0            0            0        NaN        NaN   \n",
       "\n",
       "   fb_user_8   aon  aug_vbc_3g  jul_vbc_3g  jun_vbc_3g  \n",
       "0        NaN  1692        0.00        0.00        0.00  \n",
       "1        NaN  2533        0.00        0.00        0.00  \n",
       "2        NaN   277      525.61      758.41      241.84  \n",
       "3        NaN  1244        0.00        0.00        0.00  \n",
       "4        NaN   462        0.00        0.00        0.00  \n",
       "\n",
       "[5 rows x 171 columns]"
      ]
     },
     "execution_count": 332,
     "metadata": {},
     "output_type": "execute_result"
    }
   ],
   "source": [
    "# Printing 1st 5 rows of test dataset\n",
    "df_test.head()"
   ]
  },
  {
   "cell_type": "code",
   "execution_count": 333,
   "id": "3813d9cb",
   "metadata": {},
   "outputs": [
    {
     "name": "stdout",
     "output_type": "stream",
     "text": [
      "(69999, 172)\n",
      "(30000, 171)\n"
     ]
    }
   ],
   "source": [
    "# checking shape of dataset\n",
    "print(df.shape)\n",
    "print(df_test.shape)"
   ]
  },
  {
   "cell_type": "code",
   "execution_count": 334,
   "id": "3974c3cb",
   "metadata": {},
   "outputs": [
    {
     "name": "stdout",
     "output_type": "stream",
     "text": [
      "<class 'pandas.core.frame.DataFrame'>\n",
      "RangeIndex: 69999 entries, 0 to 69998\n",
      "Data columns (total 172 columns):\n",
      " #    Column                    Dtype  \n",
      "---   ------                    -----  \n",
      " 0    id                        int64  \n",
      " 1    circle_id                 int64  \n",
      " 2    loc_og_t2o_mou            float64\n",
      " 3    std_og_t2o_mou            float64\n",
      " 4    loc_ic_t2o_mou            float64\n",
      " 5    last_date_of_month_6      object \n",
      " 6    last_date_of_month_7      object \n",
      " 7    last_date_of_month_8      object \n",
      " 8    arpu_6                    float64\n",
      " 9    arpu_7                    float64\n",
      " 10   arpu_8                    float64\n",
      " 11   onnet_mou_6               float64\n",
      " 12   onnet_mou_7               float64\n",
      " 13   onnet_mou_8               float64\n",
      " 14   offnet_mou_6              float64\n",
      " 15   offnet_mou_7              float64\n",
      " 16   offnet_mou_8              float64\n",
      " 17   roam_ic_mou_6             float64\n",
      " 18   roam_ic_mou_7             float64\n",
      " 19   roam_ic_mou_8             float64\n",
      " 20   roam_og_mou_6             float64\n",
      " 21   roam_og_mou_7             float64\n",
      " 22   roam_og_mou_8             float64\n",
      " 23   loc_og_t2t_mou_6          float64\n",
      " 24   loc_og_t2t_mou_7          float64\n",
      " 25   loc_og_t2t_mou_8          float64\n",
      " 26   loc_og_t2m_mou_6          float64\n",
      " 27   loc_og_t2m_mou_7          float64\n",
      " 28   loc_og_t2m_mou_8          float64\n",
      " 29   loc_og_t2f_mou_6          float64\n",
      " 30   loc_og_t2f_mou_7          float64\n",
      " 31   loc_og_t2f_mou_8          float64\n",
      " 32   loc_og_t2c_mou_6          float64\n",
      " 33   loc_og_t2c_mou_7          float64\n",
      " 34   loc_og_t2c_mou_8          float64\n",
      " 35   loc_og_mou_6              float64\n",
      " 36   loc_og_mou_7              float64\n",
      " 37   loc_og_mou_8              float64\n",
      " 38   std_og_t2t_mou_6          float64\n",
      " 39   std_og_t2t_mou_7          float64\n",
      " 40   std_og_t2t_mou_8          float64\n",
      " 41   std_og_t2m_mou_6          float64\n",
      " 42   std_og_t2m_mou_7          float64\n",
      " 43   std_og_t2m_mou_8          float64\n",
      " 44   std_og_t2f_mou_6          float64\n",
      " 45   std_og_t2f_mou_7          float64\n",
      " 46   std_og_t2f_mou_8          float64\n",
      " 47   std_og_t2c_mou_6          float64\n",
      " 48   std_og_t2c_mou_7          float64\n",
      " 49   std_og_t2c_mou_8          float64\n",
      " 50   std_og_mou_6              float64\n",
      " 51   std_og_mou_7              float64\n",
      " 52   std_og_mou_8              float64\n",
      " 53   isd_og_mou_6              float64\n",
      " 54   isd_og_mou_7              float64\n",
      " 55   isd_og_mou_8              float64\n",
      " 56   spl_og_mou_6              float64\n",
      " 57   spl_og_mou_7              float64\n",
      " 58   spl_og_mou_8              float64\n",
      " 59   og_others_6               float64\n",
      " 60   og_others_7               float64\n",
      " 61   og_others_8               float64\n",
      " 62   total_og_mou_6            float64\n",
      " 63   total_og_mou_7            float64\n",
      " 64   total_og_mou_8            float64\n",
      " 65   loc_ic_t2t_mou_6          float64\n",
      " 66   loc_ic_t2t_mou_7          float64\n",
      " 67   loc_ic_t2t_mou_8          float64\n",
      " 68   loc_ic_t2m_mou_6          float64\n",
      " 69   loc_ic_t2m_mou_7          float64\n",
      " 70   loc_ic_t2m_mou_8          float64\n",
      " 71   loc_ic_t2f_mou_6          float64\n",
      " 72   loc_ic_t2f_mou_7          float64\n",
      " 73   loc_ic_t2f_mou_8          float64\n",
      " 74   loc_ic_mou_6              float64\n",
      " 75   loc_ic_mou_7              float64\n",
      " 76   loc_ic_mou_8              float64\n",
      " 77   std_ic_t2t_mou_6          float64\n",
      " 78   std_ic_t2t_mou_7          float64\n",
      " 79   std_ic_t2t_mou_8          float64\n",
      " 80   std_ic_t2m_mou_6          float64\n",
      " 81   std_ic_t2m_mou_7          float64\n",
      " 82   std_ic_t2m_mou_8          float64\n",
      " 83   std_ic_t2f_mou_6          float64\n",
      " 84   std_ic_t2f_mou_7          float64\n",
      " 85   std_ic_t2f_mou_8          float64\n",
      " 86   std_ic_t2o_mou_6          float64\n",
      " 87   std_ic_t2o_mou_7          float64\n",
      " 88   std_ic_t2o_mou_8          float64\n",
      " 89   std_ic_mou_6              float64\n",
      " 90   std_ic_mou_7              float64\n",
      " 91   std_ic_mou_8              float64\n",
      " 92   total_ic_mou_6            float64\n",
      " 93   total_ic_mou_7            float64\n",
      " 94   total_ic_mou_8            float64\n",
      " 95   spl_ic_mou_6              float64\n",
      " 96   spl_ic_mou_7              float64\n",
      " 97   spl_ic_mou_8              float64\n",
      " 98   isd_ic_mou_6              float64\n",
      " 99   isd_ic_mou_7              float64\n",
      " 100  isd_ic_mou_8              float64\n",
      " 101  ic_others_6               float64\n",
      " 102  ic_others_7               float64\n",
      " 103  ic_others_8               float64\n",
      " 104  total_rech_num_6          int64  \n",
      " 105  total_rech_num_7          int64  \n",
      " 106  total_rech_num_8          int64  \n",
      " 107  total_rech_amt_6          int64  \n",
      " 108  total_rech_amt_7          int64  \n",
      " 109  total_rech_amt_8          int64  \n",
      " 110  max_rech_amt_6            int64  \n",
      " 111  max_rech_amt_7            int64  \n",
      " 112  max_rech_amt_8            int64  \n",
      " 113  date_of_last_rech_6       object \n",
      " 114  date_of_last_rech_7       object \n",
      " 115  date_of_last_rech_8       object \n",
      " 116  last_day_rch_amt_6        int64  \n",
      " 117  last_day_rch_amt_7        int64  \n",
      " 118  last_day_rch_amt_8        int64  \n",
      " 119  date_of_last_rech_data_6  object \n",
      " 120  date_of_last_rech_data_7  object \n",
      " 121  date_of_last_rech_data_8  object \n",
      " 122  total_rech_data_6         float64\n",
      " 123  total_rech_data_7         float64\n",
      " 124  total_rech_data_8         float64\n",
      " 125  max_rech_data_6           float64\n",
      " 126  max_rech_data_7           float64\n",
      " 127  max_rech_data_8           float64\n",
      " 128  count_rech_2g_6           float64\n",
      " 129  count_rech_2g_7           float64\n",
      " 130  count_rech_2g_8           float64\n",
      " 131  count_rech_3g_6           float64\n",
      " 132  count_rech_3g_7           float64\n",
      " 133  count_rech_3g_8           float64\n",
      " 134  av_rech_amt_data_6        float64\n",
      " 135  av_rech_amt_data_7        float64\n",
      " 136  av_rech_amt_data_8        float64\n",
      " 137  vol_2g_mb_6               float64\n",
      " 138  vol_2g_mb_7               float64\n",
      " 139  vol_2g_mb_8               float64\n",
      " 140  vol_3g_mb_6               float64\n",
      " 141  vol_3g_mb_7               float64\n",
      " 142  vol_3g_mb_8               float64\n",
      " 143  arpu_3g_6                 float64\n",
      " 144  arpu_3g_7                 float64\n",
      " 145  arpu_3g_8                 float64\n",
      " 146  arpu_2g_6                 float64\n",
      " 147  arpu_2g_7                 float64\n",
      " 148  arpu_2g_8                 float64\n",
      " 149  night_pck_user_6          float64\n",
      " 150  night_pck_user_7          float64\n",
      " 151  night_pck_user_8          float64\n",
      " 152  monthly_2g_6              int64  \n",
      " 153  monthly_2g_7              int64  \n",
      " 154  monthly_2g_8              int64  \n",
      " 155  sachet_2g_6               int64  \n",
      " 156  sachet_2g_7               int64  \n",
      " 157  sachet_2g_8               int64  \n",
      " 158  monthly_3g_6              int64  \n",
      " 159  monthly_3g_7              int64  \n",
      " 160  monthly_3g_8              int64  \n",
      " 161  sachet_3g_6               int64  \n",
      " 162  sachet_3g_7               int64  \n",
      " 163  sachet_3g_8               int64  \n",
      " 164  fb_user_6                 float64\n",
      " 165  fb_user_7                 float64\n",
      " 166  fb_user_8                 float64\n",
      " 167  aon                       int64  \n",
      " 168  aug_vbc_3g                float64\n",
      " 169  jul_vbc_3g                float64\n",
      " 170  jun_vbc_3g                float64\n",
      " 171  churn_probability         int64  \n",
      "dtypes: float64(135), int64(28), object(9)\n",
      "memory usage: 91.9+ MB\n"
     ]
    }
   ],
   "source": [
    "# checking information (d-type, null values) of dataset\n",
    "df.info(verbose=True)"
   ]
  },
  {
   "cell_type": "code",
   "execution_count": 335,
   "id": "75d3aaba",
   "metadata": {},
   "outputs": [
    {
     "data": {
      "text/html": [
       "<div>\n",
       "<style scoped>\n",
       "    .dataframe tbody tr th:only-of-type {\n",
       "        vertical-align: middle;\n",
       "    }\n",
       "\n",
       "    .dataframe tbody tr th {\n",
       "        vertical-align: top;\n",
       "    }\n",
       "\n",
       "    .dataframe thead th {\n",
       "        text-align: right;\n",
       "    }\n",
       "</style>\n",
       "<table border=\"1\" class=\"dataframe\">\n",
       "  <thead>\n",
       "    <tr style=\"text-align: right;\">\n",
       "      <th></th>\n",
       "      <th>id</th>\n",
       "      <th>circle_id</th>\n",
       "      <th>loc_og_t2o_mou</th>\n",
       "      <th>std_og_t2o_mou</th>\n",
       "      <th>loc_ic_t2o_mou</th>\n",
       "      <th>last_date_of_month_6</th>\n",
       "      <th>last_date_of_month_7</th>\n",
       "      <th>last_date_of_month_8</th>\n",
       "      <th>arpu_6</th>\n",
       "      <th>arpu_7</th>\n",
       "      <th>...</th>\n",
       "      <th>sachet_3g_7</th>\n",
       "      <th>sachet_3g_8</th>\n",
       "      <th>fb_user_6</th>\n",
       "      <th>fb_user_7</th>\n",
       "      <th>fb_user_8</th>\n",
       "      <th>aon</th>\n",
       "      <th>aug_vbc_3g</th>\n",
       "      <th>jul_vbc_3g</th>\n",
       "      <th>jun_vbc_3g</th>\n",
       "      <th>churn_probability</th>\n",
       "    </tr>\n",
       "  </thead>\n",
       "  <tbody>\n",
       "    <tr>\n",
       "      <th>count</th>\n",
       "      <td>69999.000000</td>\n",
       "      <td>69999.0</td>\n",
       "      <td>69297.0</td>\n",
       "      <td>69297.0</td>\n",
       "      <td>69297.0</td>\n",
       "      <td>69999</td>\n",
       "      <td>69600</td>\n",
       "      <td>69266</td>\n",
       "      <td>69999.000000</td>\n",
       "      <td>69999.000000</td>\n",
       "      <td>...</td>\n",
       "      <td>69999.000000</td>\n",
       "      <td>69999.000000</td>\n",
       "      <td>17568.000000</td>\n",
       "      <td>17865.000000</td>\n",
       "      <td>18417.000000</td>\n",
       "      <td>69999.000000</td>\n",
       "      <td>69999.000000</td>\n",
       "      <td>69999.000000</td>\n",
       "      <td>69999.00000</td>\n",
       "      <td>69999.000000</td>\n",
       "    </tr>\n",
       "    <tr>\n",
       "      <th>unique</th>\n",
       "      <td>NaN</td>\n",
       "      <td>NaN</td>\n",
       "      <td>NaN</td>\n",
       "      <td>NaN</td>\n",
       "      <td>NaN</td>\n",
       "      <td>1</td>\n",
       "      <td>1</td>\n",
       "      <td>1</td>\n",
       "      <td>NaN</td>\n",
       "      <td>NaN</td>\n",
       "      <td>...</td>\n",
       "      <td>NaN</td>\n",
       "      <td>NaN</td>\n",
       "      <td>NaN</td>\n",
       "      <td>NaN</td>\n",
       "      <td>NaN</td>\n",
       "      <td>NaN</td>\n",
       "      <td>NaN</td>\n",
       "      <td>NaN</td>\n",
       "      <td>NaN</td>\n",
       "      <td>NaN</td>\n",
       "    </tr>\n",
       "    <tr>\n",
       "      <th>top</th>\n",
       "      <td>NaN</td>\n",
       "      <td>NaN</td>\n",
       "      <td>NaN</td>\n",
       "      <td>NaN</td>\n",
       "      <td>NaN</td>\n",
       "      <td>6/30/2014</td>\n",
       "      <td>7/31/2014</td>\n",
       "      <td>8/31/2014</td>\n",
       "      <td>NaN</td>\n",
       "      <td>NaN</td>\n",
       "      <td>...</td>\n",
       "      <td>NaN</td>\n",
       "      <td>NaN</td>\n",
       "      <td>NaN</td>\n",
       "      <td>NaN</td>\n",
       "      <td>NaN</td>\n",
       "      <td>NaN</td>\n",
       "      <td>NaN</td>\n",
       "      <td>NaN</td>\n",
       "      <td>NaN</td>\n",
       "      <td>NaN</td>\n",
       "    </tr>\n",
       "    <tr>\n",
       "      <th>freq</th>\n",
       "      <td>NaN</td>\n",
       "      <td>NaN</td>\n",
       "      <td>NaN</td>\n",
       "      <td>NaN</td>\n",
       "      <td>NaN</td>\n",
       "      <td>69999</td>\n",
       "      <td>69600</td>\n",
       "      <td>69266</td>\n",
       "      <td>NaN</td>\n",
       "      <td>NaN</td>\n",
       "      <td>...</td>\n",
       "      <td>NaN</td>\n",
       "      <td>NaN</td>\n",
       "      <td>NaN</td>\n",
       "      <td>NaN</td>\n",
       "      <td>NaN</td>\n",
       "      <td>NaN</td>\n",
       "      <td>NaN</td>\n",
       "      <td>NaN</td>\n",
       "      <td>NaN</td>\n",
       "      <td>NaN</td>\n",
       "    </tr>\n",
       "    <tr>\n",
       "      <th>mean</th>\n",
       "      <td>34999.000000</td>\n",
       "      <td>109.0</td>\n",
       "      <td>0.0</td>\n",
       "      <td>0.0</td>\n",
       "      <td>0.0</td>\n",
       "      <td>NaN</td>\n",
       "      <td>NaN</td>\n",
       "      <td>NaN</td>\n",
       "      <td>283.134365</td>\n",
       "      <td>278.185912</td>\n",
       "      <td>...</td>\n",
       "      <td>0.081444</td>\n",
       "      <td>0.085487</td>\n",
       "      <td>0.916325</td>\n",
       "      <td>0.909544</td>\n",
       "      <td>0.890319</td>\n",
       "      <td>1220.639709</td>\n",
       "      <td>68.108597</td>\n",
       "      <td>65.935830</td>\n",
       "      <td>60.07674</td>\n",
       "      <td>0.101887</td>\n",
       "    </tr>\n",
       "    <tr>\n",
       "      <th>std</th>\n",
       "      <td>20207.115084</td>\n",
       "      <td>0.0</td>\n",
       "      <td>0.0</td>\n",
       "      <td>0.0</td>\n",
       "      <td>0.0</td>\n",
       "      <td>NaN</td>\n",
       "      <td>NaN</td>\n",
       "      <td>NaN</td>\n",
       "      <td>334.213918</td>\n",
       "      <td>344.366927</td>\n",
       "      <td>...</td>\n",
       "      <td>0.634547</td>\n",
       "      <td>0.680035</td>\n",
       "      <td>0.276907</td>\n",
       "      <td>0.286842</td>\n",
       "      <td>0.312501</td>\n",
       "      <td>952.426321</td>\n",
       "      <td>269.328659</td>\n",
       "      <td>267.899034</td>\n",
       "      <td>257.22681</td>\n",
       "      <td>0.302502</td>\n",
       "    </tr>\n",
       "    <tr>\n",
       "      <th>min</th>\n",
       "      <td>0.000000</td>\n",
       "      <td>109.0</td>\n",
       "      <td>0.0</td>\n",
       "      <td>0.0</td>\n",
       "      <td>0.0</td>\n",
       "      <td>NaN</td>\n",
       "      <td>NaN</td>\n",
       "      <td>NaN</td>\n",
       "      <td>-2258.709000</td>\n",
       "      <td>-1289.715000</td>\n",
       "      <td>...</td>\n",
       "      <td>0.000000</td>\n",
       "      <td>0.000000</td>\n",
       "      <td>0.000000</td>\n",
       "      <td>0.000000</td>\n",
       "      <td>0.000000</td>\n",
       "      <td>180.000000</td>\n",
       "      <td>0.000000</td>\n",
       "      <td>0.000000</td>\n",
       "      <td>0.00000</td>\n",
       "      <td>0.000000</td>\n",
       "    </tr>\n",
       "    <tr>\n",
       "      <th>25%</th>\n",
       "      <td>17499.500000</td>\n",
       "      <td>109.0</td>\n",
       "      <td>0.0</td>\n",
       "      <td>0.0</td>\n",
       "      <td>0.0</td>\n",
       "      <td>NaN</td>\n",
       "      <td>NaN</td>\n",
       "      <td>NaN</td>\n",
       "      <td>93.581000</td>\n",
       "      <td>86.714000</td>\n",
       "      <td>...</td>\n",
       "      <td>0.000000</td>\n",
       "      <td>0.000000</td>\n",
       "      <td>1.000000</td>\n",
       "      <td>1.000000</td>\n",
       "      <td>1.000000</td>\n",
       "      <td>468.000000</td>\n",
       "      <td>0.000000</td>\n",
       "      <td>0.000000</td>\n",
       "      <td>0.00000</td>\n",
       "      <td>0.000000</td>\n",
       "    </tr>\n",
       "    <tr>\n",
       "      <th>50%</th>\n",
       "      <td>34999.000000</td>\n",
       "      <td>109.0</td>\n",
       "      <td>0.0</td>\n",
       "      <td>0.0</td>\n",
       "      <td>0.0</td>\n",
       "      <td>NaN</td>\n",
       "      <td>NaN</td>\n",
       "      <td>NaN</td>\n",
       "      <td>197.484000</td>\n",
       "      <td>191.588000</td>\n",
       "      <td>...</td>\n",
       "      <td>0.000000</td>\n",
       "      <td>0.000000</td>\n",
       "      <td>1.000000</td>\n",
       "      <td>1.000000</td>\n",
       "      <td>1.000000</td>\n",
       "      <td>868.000000</td>\n",
       "      <td>0.000000</td>\n",
       "      <td>0.000000</td>\n",
       "      <td>0.00000</td>\n",
       "      <td>0.000000</td>\n",
       "    </tr>\n",
       "    <tr>\n",
       "      <th>75%</th>\n",
       "      <td>52498.500000</td>\n",
       "      <td>109.0</td>\n",
       "      <td>0.0</td>\n",
       "      <td>0.0</td>\n",
       "      <td>0.0</td>\n",
       "      <td>NaN</td>\n",
       "      <td>NaN</td>\n",
       "      <td>NaN</td>\n",
       "      <td>370.791000</td>\n",
       "      <td>365.369500</td>\n",
       "      <td>...</td>\n",
       "      <td>0.000000</td>\n",
       "      <td>0.000000</td>\n",
       "      <td>1.000000</td>\n",
       "      <td>1.000000</td>\n",
       "      <td>1.000000</td>\n",
       "      <td>1813.000000</td>\n",
       "      <td>0.000000</td>\n",
       "      <td>0.000000</td>\n",
       "      <td>0.00000</td>\n",
       "      <td>0.000000</td>\n",
       "    </tr>\n",
       "    <tr>\n",
       "      <th>max</th>\n",
       "      <td>69998.000000</td>\n",
       "      <td>109.0</td>\n",
       "      <td>0.0</td>\n",
       "      <td>0.0</td>\n",
       "      <td>0.0</td>\n",
       "      <td>NaN</td>\n",
       "      <td>NaN</td>\n",
       "      <td>NaN</td>\n",
       "      <td>27731.088000</td>\n",
       "      <td>35145.834000</td>\n",
       "      <td>...</td>\n",
       "      <td>33.000000</td>\n",
       "      <td>41.000000</td>\n",
       "      <td>1.000000</td>\n",
       "      <td>1.000000</td>\n",
       "      <td>1.000000</td>\n",
       "      <td>4337.000000</td>\n",
       "      <td>12916.220000</td>\n",
       "      <td>9165.600000</td>\n",
       "      <td>11166.21000</td>\n",
       "      <td>1.000000</td>\n",
       "    </tr>\n",
       "  </tbody>\n",
       "</table>\n",
       "<p>11 rows × 172 columns</p>\n",
       "</div>"
      ],
      "text/plain": [
       "                  id  circle_id  loc_og_t2o_mou  std_og_t2o_mou  \\\n",
       "count   69999.000000    69999.0         69297.0         69297.0   \n",
       "unique           NaN        NaN             NaN             NaN   \n",
       "top              NaN        NaN             NaN             NaN   \n",
       "freq             NaN        NaN             NaN             NaN   \n",
       "mean    34999.000000      109.0             0.0             0.0   \n",
       "std     20207.115084        0.0             0.0             0.0   \n",
       "min         0.000000      109.0             0.0             0.0   \n",
       "25%     17499.500000      109.0             0.0             0.0   \n",
       "50%     34999.000000      109.0             0.0             0.0   \n",
       "75%     52498.500000      109.0             0.0             0.0   \n",
       "max     69998.000000      109.0             0.0             0.0   \n",
       "\n",
       "        loc_ic_t2o_mou last_date_of_month_6 last_date_of_month_7  \\\n",
       "count          69297.0                69999                69600   \n",
       "unique             NaN                    1                    1   \n",
       "top                NaN            6/30/2014            7/31/2014   \n",
       "freq               NaN                69999                69600   \n",
       "mean               0.0                  NaN                  NaN   \n",
       "std                0.0                  NaN                  NaN   \n",
       "min                0.0                  NaN                  NaN   \n",
       "25%                0.0                  NaN                  NaN   \n",
       "50%                0.0                  NaN                  NaN   \n",
       "75%                0.0                  NaN                  NaN   \n",
       "max                0.0                  NaN                  NaN   \n",
       "\n",
       "       last_date_of_month_8        arpu_6        arpu_7  ...   sachet_3g_7  \\\n",
       "count                 69266  69999.000000  69999.000000  ...  69999.000000   \n",
       "unique                    1           NaN           NaN  ...           NaN   \n",
       "top               8/31/2014           NaN           NaN  ...           NaN   \n",
       "freq                  69266           NaN           NaN  ...           NaN   \n",
       "mean                    NaN    283.134365    278.185912  ...      0.081444   \n",
       "std                     NaN    334.213918    344.366927  ...      0.634547   \n",
       "min                     NaN  -2258.709000  -1289.715000  ...      0.000000   \n",
       "25%                     NaN     93.581000     86.714000  ...      0.000000   \n",
       "50%                     NaN    197.484000    191.588000  ...      0.000000   \n",
       "75%                     NaN    370.791000    365.369500  ...      0.000000   \n",
       "max                     NaN  27731.088000  35145.834000  ...     33.000000   \n",
       "\n",
       "         sachet_3g_8     fb_user_6     fb_user_7     fb_user_8           aon  \\\n",
       "count   69999.000000  17568.000000  17865.000000  18417.000000  69999.000000   \n",
       "unique           NaN           NaN           NaN           NaN           NaN   \n",
       "top              NaN           NaN           NaN           NaN           NaN   \n",
       "freq             NaN           NaN           NaN           NaN           NaN   \n",
       "mean        0.085487      0.916325      0.909544      0.890319   1220.639709   \n",
       "std         0.680035      0.276907      0.286842      0.312501    952.426321   \n",
       "min         0.000000      0.000000      0.000000      0.000000    180.000000   \n",
       "25%         0.000000      1.000000      1.000000      1.000000    468.000000   \n",
       "50%         0.000000      1.000000      1.000000      1.000000    868.000000   \n",
       "75%         0.000000      1.000000      1.000000      1.000000   1813.000000   \n",
       "max        41.000000      1.000000      1.000000      1.000000   4337.000000   \n",
       "\n",
       "          aug_vbc_3g    jul_vbc_3g   jun_vbc_3g  churn_probability  \n",
       "count   69999.000000  69999.000000  69999.00000       69999.000000  \n",
       "unique           NaN           NaN          NaN                NaN  \n",
       "top              NaN           NaN          NaN                NaN  \n",
       "freq             NaN           NaN          NaN                NaN  \n",
       "mean       68.108597     65.935830     60.07674           0.101887  \n",
       "std       269.328659    267.899034    257.22681           0.302502  \n",
       "min         0.000000      0.000000      0.00000           0.000000  \n",
       "25%         0.000000      0.000000      0.00000           0.000000  \n",
       "50%         0.000000      0.000000      0.00000           0.000000  \n",
       "75%         0.000000      0.000000      0.00000           0.000000  \n",
       "max     12916.220000   9165.600000  11166.21000           1.000000  \n",
       "\n",
       "[11 rows x 172 columns]"
      ]
     },
     "execution_count": 335,
     "metadata": {},
     "output_type": "execute_result"
    }
   ],
   "source": [
    "# Checking numerical information\n",
    "df.describe(include='all')"
   ]
  },
  {
   "cell_type": "markdown",
   "id": "347ab1cb",
   "metadata": {},
   "source": [
    "## Data cleaning"
   ]
  },
  {
   "cell_type": "code",
   "execution_count": 336,
   "id": "69372bb0",
   "metadata": {},
   "outputs": [
    {
     "data": {
      "text/html": [
       "<div>\n",
       "<style scoped>\n",
       "    .dataframe tbody tr th:only-of-type {\n",
       "        vertical-align: middle;\n",
       "    }\n",
       "\n",
       "    .dataframe tbody tr th {\n",
       "        vertical-align: top;\n",
       "    }\n",
       "\n",
       "    .dataframe thead th {\n",
       "        text-align: right;\n",
       "    }\n",
       "</style>\n",
       "<table border=\"1\" class=\"dataframe\">\n",
       "  <thead>\n",
       "    <tr style=\"text-align: right;\">\n",
       "      <th></th>\n",
       "      <th>id</th>\n",
       "      <th>circle_id</th>\n",
       "      <th>loc_og_t2o_mou</th>\n",
       "      <th>std_og_t2o_mou</th>\n",
       "      <th>loc_ic_t2o_mou</th>\n",
       "      <th>last_date_of_month_6</th>\n",
       "      <th>last_date_of_month_7</th>\n",
       "      <th>last_date_of_month_8</th>\n",
       "      <th>arpu_6</th>\n",
       "      <th>arpu_7</th>\n",
       "      <th>...</th>\n",
       "      <th>sachet_3g_7</th>\n",
       "      <th>sachet_3g_8</th>\n",
       "      <th>fb_user_6</th>\n",
       "      <th>fb_user_7</th>\n",
       "      <th>fb_user_8</th>\n",
       "      <th>aon</th>\n",
       "      <th>aug_vbc_3g</th>\n",
       "      <th>jul_vbc_3g</th>\n",
       "      <th>jun_vbc_3g</th>\n",
       "      <th>churn_probability</th>\n",
       "    </tr>\n",
       "  </thead>\n",
       "  <tbody>\n",
       "  </tbody>\n",
       "</table>\n",
       "<p>0 rows × 172 columns</p>\n",
       "</div>"
      ],
      "text/plain": [
       "Empty DataFrame\n",
       "Columns: [id, circle_id, loc_og_t2o_mou, std_og_t2o_mou, loc_ic_t2o_mou, last_date_of_month_6, last_date_of_month_7, last_date_of_month_8, arpu_6, arpu_7, arpu_8, onnet_mou_6, onnet_mou_7, onnet_mou_8, offnet_mou_6, offnet_mou_7, offnet_mou_8, roam_ic_mou_6, roam_ic_mou_7, roam_ic_mou_8, roam_og_mou_6, roam_og_mou_7, roam_og_mou_8, loc_og_t2t_mou_6, loc_og_t2t_mou_7, loc_og_t2t_mou_8, loc_og_t2m_mou_6, loc_og_t2m_mou_7, loc_og_t2m_mou_8, loc_og_t2f_mou_6, loc_og_t2f_mou_7, loc_og_t2f_mou_8, loc_og_t2c_mou_6, loc_og_t2c_mou_7, loc_og_t2c_mou_8, loc_og_mou_6, loc_og_mou_7, loc_og_mou_8, std_og_t2t_mou_6, std_og_t2t_mou_7, std_og_t2t_mou_8, std_og_t2m_mou_6, std_og_t2m_mou_7, std_og_t2m_mou_8, std_og_t2f_mou_6, std_og_t2f_mou_7, std_og_t2f_mou_8, std_og_t2c_mou_6, std_og_t2c_mou_7, std_og_t2c_mou_8, std_og_mou_6, std_og_mou_7, std_og_mou_8, isd_og_mou_6, isd_og_mou_7, isd_og_mou_8, spl_og_mou_6, spl_og_mou_7, spl_og_mou_8, og_others_6, og_others_7, og_others_8, total_og_mou_6, total_og_mou_7, total_og_mou_8, loc_ic_t2t_mou_6, loc_ic_t2t_mou_7, loc_ic_t2t_mou_8, loc_ic_t2m_mou_6, loc_ic_t2m_mou_7, loc_ic_t2m_mou_8, loc_ic_t2f_mou_6, loc_ic_t2f_mou_7, loc_ic_t2f_mou_8, loc_ic_mou_6, loc_ic_mou_7, loc_ic_mou_8, std_ic_t2t_mou_6, std_ic_t2t_mou_7, std_ic_t2t_mou_8, std_ic_t2m_mou_6, std_ic_t2m_mou_7, std_ic_t2m_mou_8, std_ic_t2f_mou_6, std_ic_t2f_mou_7, std_ic_t2f_mou_8, std_ic_t2o_mou_6, std_ic_t2o_mou_7, std_ic_t2o_mou_8, std_ic_mou_6, std_ic_mou_7, std_ic_mou_8, total_ic_mou_6, total_ic_mou_7, total_ic_mou_8, spl_ic_mou_6, spl_ic_mou_7, spl_ic_mou_8, isd_ic_mou_6, isd_ic_mou_7, ...]\n",
       "Index: []\n",
       "\n",
       "[0 rows x 172 columns]"
      ]
     },
     "execution_count": 336,
     "metadata": {},
     "output_type": "execute_result"
    }
   ],
   "source": [
    "# Checking any presence of duplicate value in datatset\n",
    "df[df.duplicated()]"
   ]
  },
  {
   "cell_type": "code",
   "execution_count": 337,
   "id": "4936a17a",
   "metadata": {},
   "outputs": [
    {
     "data": {
      "text/plain": [
       "Index(['loc_og_t2o_mou', 'std_og_t2o_mou', 'loc_ic_t2o_mou',\n",
       "       'last_date_of_month_7', 'last_date_of_month_8', 'onnet_mou_6',\n",
       "       'onnet_mou_7', 'onnet_mou_8', 'offnet_mou_6', 'offnet_mou_7',\n",
       "       ...\n",
       "       'arpu_3g_8', 'arpu_2g_6', 'arpu_2g_7', 'arpu_2g_8', 'night_pck_user_6',\n",
       "       'night_pck_user_7', 'night_pck_user_8', 'fb_user_6', 'fb_user_7',\n",
       "       'fb_user_8'],\n",
       "      dtype='object', length=125)"
      ]
     },
     "execution_count": 337,
     "metadata": {},
     "output_type": "execute_result"
    }
   ],
   "source": [
    "# List of variables names with NA or NaN values \n",
    "df.loc[:,df.isna().any(axis=0)].columns"
   ]
  },
  {
   "cell_type": "markdown",
   "id": "bc6b9e9d",
   "metadata": {},
   "source": [
    "##### Observation : There are around 125 features conatining NaN values in it."
   ]
  },
  {
   "cell_type": "code",
   "execution_count": 338,
   "id": "e10dca63",
   "metadata": {},
   "outputs": [
    {
     "data": {
      "text/html": [
       "<div>\n",
       "<style scoped>\n",
       "    .dataframe tbody tr th:only-of-type {\n",
       "        vertical-align: middle;\n",
       "    }\n",
       "\n",
       "    .dataframe tbody tr th {\n",
       "        vertical-align: top;\n",
       "    }\n",
       "\n",
       "    .dataframe thead th {\n",
       "        text-align: right;\n",
       "    }\n",
       "</style>\n",
       "<table border=\"1\" class=\"dataframe\">\n",
       "  <thead>\n",
       "    <tr style=\"text-align: right;\">\n",
       "      <th></th>\n",
       "      <th>loc_og_t2o_mou</th>\n",
       "      <th>std_og_t2o_mou</th>\n",
       "      <th>loc_ic_t2o_mou</th>\n",
       "      <th>last_date_of_month_7</th>\n",
       "      <th>last_date_of_month_8</th>\n",
       "      <th>onnet_mou_6</th>\n",
       "      <th>onnet_mou_7</th>\n",
       "      <th>onnet_mou_8</th>\n",
       "      <th>offnet_mou_6</th>\n",
       "      <th>offnet_mou_7</th>\n",
       "      <th>...</th>\n",
       "      <th>arpu_3g_8</th>\n",
       "      <th>arpu_2g_6</th>\n",
       "      <th>arpu_2g_7</th>\n",
       "      <th>arpu_2g_8</th>\n",
       "      <th>night_pck_user_6</th>\n",
       "      <th>night_pck_user_7</th>\n",
       "      <th>night_pck_user_8</th>\n",
       "      <th>fb_user_6</th>\n",
       "      <th>fb_user_7</th>\n",
       "      <th>fb_user_8</th>\n",
       "    </tr>\n",
       "  </thead>\n",
       "  <tbody>\n",
       "    <tr>\n",
       "      <th>0</th>\n",
       "      <td>0.0</td>\n",
       "      <td>0.0</td>\n",
       "      <td>0.0</td>\n",
       "      <td>7/31/2014</td>\n",
       "      <td>8/31/2014</td>\n",
       "      <td>48.58</td>\n",
       "      <td>124.38</td>\n",
       "      <td>1.29</td>\n",
       "      <td>32.24</td>\n",
       "      <td>96.68</td>\n",
       "      <td>...</td>\n",
       "      <td>NaN</td>\n",
       "      <td>NaN</td>\n",
       "      <td>NaN</td>\n",
       "      <td>NaN</td>\n",
       "      <td>NaN</td>\n",
       "      <td>NaN</td>\n",
       "      <td>NaN</td>\n",
       "      <td>NaN</td>\n",
       "      <td>NaN</td>\n",
       "      <td>NaN</td>\n",
       "    </tr>\n",
       "    <tr>\n",
       "      <th>1</th>\n",
       "      <td>0.0</td>\n",
       "      <td>0.0</td>\n",
       "      <td>0.0</td>\n",
       "      <td>7/31/2014</td>\n",
       "      <td>8/31/2014</td>\n",
       "      <td>0.00</td>\n",
       "      <td>0.00</td>\n",
       "      <td>0.00</td>\n",
       "      <td>0.00</td>\n",
       "      <td>25.99</td>\n",
       "      <td>...</td>\n",
       "      <td>NaN</td>\n",
       "      <td>NaN</td>\n",
       "      <td>122.08</td>\n",
       "      <td>NaN</td>\n",
       "      <td>NaN</td>\n",
       "      <td>0.0</td>\n",
       "      <td>NaN</td>\n",
       "      <td>NaN</td>\n",
       "      <td>1.0</td>\n",
       "      <td>NaN</td>\n",
       "    </tr>\n",
       "    <tr>\n",
       "      <th>2</th>\n",
       "      <td>0.0</td>\n",
       "      <td>0.0</td>\n",
       "      <td>0.0</td>\n",
       "      <td>7/31/2014</td>\n",
       "      <td>8/31/2014</td>\n",
       "      <td>0.53</td>\n",
       "      <td>15.93</td>\n",
       "      <td>0.00</td>\n",
       "      <td>53.99</td>\n",
       "      <td>82.05</td>\n",
       "      <td>...</td>\n",
       "      <td>NaN</td>\n",
       "      <td>NaN</td>\n",
       "      <td>NaN</td>\n",
       "      <td>NaN</td>\n",
       "      <td>NaN</td>\n",
       "      <td>NaN</td>\n",
       "      <td>NaN</td>\n",
       "      <td>NaN</td>\n",
       "      <td>NaN</td>\n",
       "      <td>NaN</td>\n",
       "    </tr>\n",
       "    <tr>\n",
       "      <th>3</th>\n",
       "      <td>0.0</td>\n",
       "      <td>0.0</td>\n",
       "      <td>0.0</td>\n",
       "      <td>7/31/2014</td>\n",
       "      <td>8/31/2014</td>\n",
       "      <td>7.26</td>\n",
       "      <td>16.01</td>\n",
       "      <td>0.00</td>\n",
       "      <td>68.76</td>\n",
       "      <td>78.48</td>\n",
       "      <td>...</td>\n",
       "      <td>NaN</td>\n",
       "      <td>NaN</td>\n",
       "      <td>NaN</td>\n",
       "      <td>NaN</td>\n",
       "      <td>NaN</td>\n",
       "      <td>NaN</td>\n",
       "      <td>NaN</td>\n",
       "      <td>NaN</td>\n",
       "      <td>NaN</td>\n",
       "      <td>NaN</td>\n",
       "    </tr>\n",
       "    <tr>\n",
       "      <th>4</th>\n",
       "      <td>0.0</td>\n",
       "      <td>0.0</td>\n",
       "      <td>0.0</td>\n",
       "      <td>7/31/2014</td>\n",
       "      <td>8/31/2014</td>\n",
       "      <td>21.28</td>\n",
       "      <td>4.83</td>\n",
       "      <td>6.13</td>\n",
       "      <td>56.99</td>\n",
       "      <td>38.11</td>\n",
       "      <td>...</td>\n",
       "      <td>0.00</td>\n",
       "      <td>0.00</td>\n",
       "      <td>35.12</td>\n",
       "      <td>0.00</td>\n",
       "      <td>0.0</td>\n",
       "      <td>0.0</td>\n",
       "      <td>0.0</td>\n",
       "      <td>1.0</td>\n",
       "      <td>1.0</td>\n",
       "      <td>1.0</td>\n",
       "    </tr>\n",
       "    <tr>\n",
       "      <th>...</th>\n",
       "      <td>...</td>\n",
       "      <td>...</td>\n",
       "      <td>...</td>\n",
       "      <td>...</td>\n",
       "      <td>...</td>\n",
       "      <td>...</td>\n",
       "      <td>...</td>\n",
       "      <td>...</td>\n",
       "      <td>...</td>\n",
       "      <td>...</td>\n",
       "      <td>...</td>\n",
       "      <td>...</td>\n",
       "      <td>...</td>\n",
       "      <td>...</td>\n",
       "      <td>...</td>\n",
       "      <td>...</td>\n",
       "      <td>...</td>\n",
       "      <td>...</td>\n",
       "      <td>...</td>\n",
       "      <td>...</td>\n",
       "      <td>...</td>\n",
       "    </tr>\n",
       "    <tr>\n",
       "      <th>69994</th>\n",
       "      <td>0.0</td>\n",
       "      <td>0.0</td>\n",
       "      <td>0.0</td>\n",
       "      <td>7/31/2014</td>\n",
       "      <td>8/31/2014</td>\n",
       "      <td>0.00</td>\n",
       "      <td>7.36</td>\n",
       "      <td>10.93</td>\n",
       "      <td>0.00</td>\n",
       "      <td>488.46</td>\n",
       "      <td>...</td>\n",
       "      <td>0.00</td>\n",
       "      <td>NaN</td>\n",
       "      <td>60.61</td>\n",
       "      <td>48.00</td>\n",
       "      <td>NaN</td>\n",
       "      <td>0.0</td>\n",
       "      <td>0.0</td>\n",
       "      <td>NaN</td>\n",
       "      <td>1.0</td>\n",
       "      <td>1.0</td>\n",
       "    </tr>\n",
       "    <tr>\n",
       "      <th>69995</th>\n",
       "      <td>0.0</td>\n",
       "      <td>0.0</td>\n",
       "      <td>0.0</td>\n",
       "      <td>7/31/2014</td>\n",
       "      <td>8/31/2014</td>\n",
       "      <td>116.54</td>\n",
       "      <td>196.46</td>\n",
       "      <td>232.63</td>\n",
       "      <td>49.53</td>\n",
       "      <td>96.28</td>\n",
       "      <td>...</td>\n",
       "      <td>NaN</td>\n",
       "      <td>NaN</td>\n",
       "      <td>NaN</td>\n",
       "      <td>NaN</td>\n",
       "      <td>NaN</td>\n",
       "      <td>NaN</td>\n",
       "      <td>NaN</td>\n",
       "      <td>NaN</td>\n",
       "      <td>NaN</td>\n",
       "      <td>NaN</td>\n",
       "    </tr>\n",
       "    <tr>\n",
       "      <th>69996</th>\n",
       "      <td>0.0</td>\n",
       "      <td>0.0</td>\n",
       "      <td>0.0</td>\n",
       "      <td>7/31/2014</td>\n",
       "      <td>8/31/2014</td>\n",
       "      <td>77.13</td>\n",
       "      <td>68.44</td>\n",
       "      <td>78.44</td>\n",
       "      <td>335.54</td>\n",
       "      <td>227.94</td>\n",
       "      <td>...</td>\n",
       "      <td>NaN</td>\n",
       "      <td>NaN</td>\n",
       "      <td>NaN</td>\n",
       "      <td>NaN</td>\n",
       "      <td>NaN</td>\n",
       "      <td>NaN</td>\n",
       "      <td>NaN</td>\n",
       "      <td>NaN</td>\n",
       "      <td>NaN</td>\n",
       "      <td>NaN</td>\n",
       "    </tr>\n",
       "    <tr>\n",
       "      <th>69997</th>\n",
       "      <td>0.0</td>\n",
       "      <td>0.0</td>\n",
       "      <td>0.0</td>\n",
       "      <td>7/31/2014</td>\n",
       "      <td>8/31/2014</td>\n",
       "      <td>14.01</td>\n",
       "      <td>7.64</td>\n",
       "      <td>6.71</td>\n",
       "      <td>30.34</td>\n",
       "      <td>16.68</td>\n",
       "      <td>...</td>\n",
       "      <td>122.08</td>\n",
       "      <td>150.67</td>\n",
       "      <td>212.17</td>\n",
       "      <td>122.07</td>\n",
       "      <td>0.0</td>\n",
       "      <td>0.0</td>\n",
       "      <td>0.0</td>\n",
       "      <td>1.0</td>\n",
       "      <td>1.0</td>\n",
       "      <td>1.0</td>\n",
       "    </tr>\n",
       "    <tr>\n",
       "      <th>69998</th>\n",
       "      <td>0.0</td>\n",
       "      <td>0.0</td>\n",
       "      <td>0.0</td>\n",
       "      <td>7/31/2014</td>\n",
       "      <td>8/31/2014</td>\n",
       "      <td>0.00</td>\n",
       "      <td>0.00</td>\n",
       "      <td>0.00</td>\n",
       "      <td>0.00</td>\n",
       "      <td>0.00</td>\n",
       "      <td>...</td>\n",
       "      <td>0.00</td>\n",
       "      <td>0.00</td>\n",
       "      <td>NaN</td>\n",
       "      <td>0.02</td>\n",
       "      <td>0.0</td>\n",
       "      <td>NaN</td>\n",
       "      <td>0.0</td>\n",
       "      <td>1.0</td>\n",
       "      <td>NaN</td>\n",
       "      <td>1.0</td>\n",
       "    </tr>\n",
       "  </tbody>\n",
       "</table>\n",
       "<p>69999 rows × 125 columns</p>\n",
       "</div>"
      ],
      "text/plain": [
       "       loc_og_t2o_mou  std_og_t2o_mou  loc_ic_t2o_mou last_date_of_month_7  \\\n",
       "0                 0.0             0.0             0.0            7/31/2014   \n",
       "1                 0.0             0.0             0.0            7/31/2014   \n",
       "2                 0.0             0.0             0.0            7/31/2014   \n",
       "3                 0.0             0.0             0.0            7/31/2014   \n",
       "4                 0.0             0.0             0.0            7/31/2014   \n",
       "...               ...             ...             ...                  ...   \n",
       "69994             0.0             0.0             0.0            7/31/2014   \n",
       "69995             0.0             0.0             0.0            7/31/2014   \n",
       "69996             0.0             0.0             0.0            7/31/2014   \n",
       "69997             0.0             0.0             0.0            7/31/2014   \n",
       "69998             0.0             0.0             0.0            7/31/2014   \n",
       "\n",
       "      last_date_of_month_8  onnet_mou_6  onnet_mou_7  onnet_mou_8  \\\n",
       "0                8/31/2014        48.58       124.38         1.29   \n",
       "1                8/31/2014         0.00         0.00         0.00   \n",
       "2                8/31/2014         0.53        15.93         0.00   \n",
       "3                8/31/2014         7.26        16.01         0.00   \n",
       "4                8/31/2014        21.28         4.83         6.13   \n",
       "...                    ...          ...          ...          ...   \n",
       "69994            8/31/2014         0.00         7.36        10.93   \n",
       "69995            8/31/2014       116.54       196.46       232.63   \n",
       "69996            8/31/2014        77.13        68.44        78.44   \n",
       "69997            8/31/2014        14.01         7.64         6.71   \n",
       "69998            8/31/2014         0.00         0.00         0.00   \n",
       "\n",
       "       offnet_mou_6  offnet_mou_7  ...  arpu_3g_8  arpu_2g_6  arpu_2g_7  \\\n",
       "0             32.24         96.68  ...        NaN        NaN        NaN   \n",
       "1              0.00         25.99  ...        NaN        NaN     122.08   \n",
       "2             53.99         82.05  ...        NaN        NaN        NaN   \n",
       "3             68.76         78.48  ...        NaN        NaN        NaN   \n",
       "4             56.99         38.11  ...       0.00       0.00      35.12   \n",
       "...             ...           ...  ...        ...        ...        ...   \n",
       "69994          0.00        488.46  ...       0.00        NaN      60.61   \n",
       "69995         49.53         96.28  ...        NaN        NaN        NaN   \n",
       "69996        335.54        227.94  ...        NaN        NaN        NaN   \n",
       "69997         30.34         16.68  ...     122.08     150.67     212.17   \n",
       "69998          0.00          0.00  ...       0.00       0.00        NaN   \n",
       "\n",
       "       arpu_2g_8  night_pck_user_6  night_pck_user_7  night_pck_user_8  \\\n",
       "0            NaN               NaN               NaN               NaN   \n",
       "1            NaN               NaN               0.0               NaN   \n",
       "2            NaN               NaN               NaN               NaN   \n",
       "3            NaN               NaN               NaN               NaN   \n",
       "4           0.00               0.0               0.0               0.0   \n",
       "...          ...               ...               ...               ...   \n",
       "69994      48.00               NaN               0.0               0.0   \n",
       "69995        NaN               NaN               NaN               NaN   \n",
       "69996        NaN               NaN               NaN               NaN   \n",
       "69997     122.07               0.0               0.0               0.0   \n",
       "69998       0.02               0.0               NaN               0.0   \n",
       "\n",
       "       fb_user_6  fb_user_7  fb_user_8  \n",
       "0            NaN        NaN        NaN  \n",
       "1            NaN        1.0        NaN  \n",
       "2            NaN        NaN        NaN  \n",
       "3            NaN        NaN        NaN  \n",
       "4            1.0        1.0        1.0  \n",
       "...          ...        ...        ...  \n",
       "69994        NaN        1.0        1.0  \n",
       "69995        NaN        NaN        NaN  \n",
       "69996        NaN        NaN        NaN  \n",
       "69997        1.0        1.0        1.0  \n",
       "69998        1.0        NaN        1.0  \n",
       "\n",
       "[69999 rows x 125 columns]"
      ]
     },
     "execution_count": 338,
     "metadata": {},
     "output_type": "execute_result"
    }
   ],
   "source": [
    "df.loc[:,df.isna().any(axis=0)]"
   ]
  },
  {
   "cell_type": "code",
   "execution_count": 339,
   "id": "7d45be11",
   "metadata": {},
   "outputs": [
    {
     "data": {
      "text/plain": [
       "loc_og_t2o_mou           1.002871\n",
       "std_og_t2o_mou           1.002871\n",
       "loc_ic_t2o_mou           1.002871\n",
       "last_date_of_month_7     0.570008\n",
       "last_date_of_month_8     1.047158\n",
       "                          ...    \n",
       "night_pck_user_7        74.478207\n",
       "night_pck_user_8        73.689624\n",
       "fb_user_6               74.902499\n",
       "fb_user_7               74.478207\n",
       "fb_user_8               73.689624\n",
       "Length: 125, dtype: float64"
      ]
     },
     "execution_count": 339,
     "metadata": {},
     "output_type": "execute_result"
    }
   ],
   "source": [
    "# checking percentage of null values in  each feature of train set\n",
    "df_null=df[df.columns[df.isnull().any()]].isnull().sum() * 100 / df.shape[0]\n",
    "df_null"
   ]
  },
  {
   "cell_type": "code",
   "execution_count": 340,
   "id": "0846f5fe",
   "metadata": {},
   "outputs": [
    {
     "data": {
      "text/plain": [
       "loc_og_t2o_mou           1.002871\n",
       "std_og_t2o_mou           1.002871\n",
       "loc_ic_t2o_mou           1.002871\n",
       "last_date_of_month_7     0.570008\n",
       "last_date_of_month_8     1.047158\n",
       "                          ...    \n",
       "night_pck_user_7        74.478207\n",
       "night_pck_user_8        73.689624\n",
       "fb_user_6               74.902499\n",
       "fb_user_7               74.478207\n",
       "fb_user_8               73.689624\n",
       "Length: 125, dtype: float64"
      ]
     },
     "execution_count": 340,
     "metadata": {},
     "output_type": "execute_result"
    }
   ],
   "source": [
    "# checking percentage of null values in  each feature of test set\n",
    "df_null_test=df[df.columns[df.isnull().any()]].isnull().sum() * 100 / df.shape[0]\n",
    "df_null_test"
   ]
  },
  {
   "cell_type": "code",
   "execution_count": 341,
   "id": "0ee4985a",
   "metadata": {},
   "outputs": [
    {
     "name": "stdout",
     "output_type": "stream",
     "text": [
      "id\n",
      "circle_id\n",
      "loc_og_t2o_mou\n",
      "std_og_t2o_mou\n",
      "loc_ic_t2o_mou\n",
      "last_date_of_month_6\n",
      "last_date_of_month_7\n",
      "last_date_of_month_8\n",
      "arpu_6\n",
      "arpu_7\n",
      "arpu_8\n",
      "onnet_mou_6\n",
      "onnet_mou_7\n",
      "onnet_mou_8\n",
      "offnet_mou_6\n",
      "offnet_mou_7\n",
      "offnet_mou_8\n",
      "roam_ic_mou_6\n",
      "roam_ic_mou_7\n",
      "roam_ic_mou_8\n",
      "roam_og_mou_6\n",
      "roam_og_mou_7\n",
      "roam_og_mou_8\n",
      "loc_og_t2t_mou_6\n",
      "loc_og_t2t_mou_7\n",
      "loc_og_t2t_mou_8\n",
      "loc_og_t2m_mou_6\n",
      "loc_og_t2m_mou_7\n",
      "loc_og_t2m_mou_8\n",
      "loc_og_t2f_mou_6\n",
      "loc_og_t2f_mou_7\n",
      "loc_og_t2f_mou_8\n",
      "loc_og_t2c_mou_6\n",
      "loc_og_t2c_mou_7\n",
      "loc_og_t2c_mou_8\n",
      "loc_og_mou_6\n",
      "loc_og_mou_7\n",
      "loc_og_mou_8\n",
      "std_og_t2t_mou_6\n",
      "std_og_t2t_mou_7\n",
      "std_og_t2t_mou_8\n",
      "std_og_t2m_mou_6\n",
      "std_og_t2m_mou_7\n",
      "std_og_t2m_mou_8\n",
      "std_og_t2f_mou_6\n",
      "std_og_t2f_mou_7\n",
      "std_og_t2f_mou_8\n",
      "std_og_t2c_mou_6\n",
      "std_og_t2c_mou_7\n",
      "std_og_t2c_mou_8\n",
      "std_og_mou_6\n",
      "std_og_mou_7\n",
      "std_og_mou_8\n",
      "isd_og_mou_6\n",
      "isd_og_mou_7\n",
      "isd_og_mou_8\n",
      "spl_og_mou_6\n",
      "spl_og_mou_7\n",
      "spl_og_mou_8\n",
      "og_others_6\n",
      "og_others_7\n",
      "og_others_8\n",
      "total_og_mou_6\n",
      "total_og_mou_7\n",
      "total_og_mou_8\n",
      "loc_ic_t2t_mou_6\n",
      "loc_ic_t2t_mou_7\n",
      "loc_ic_t2t_mou_8\n",
      "loc_ic_t2m_mou_6\n",
      "loc_ic_t2m_mou_7\n",
      "loc_ic_t2m_mou_8\n",
      "loc_ic_t2f_mou_6\n",
      "loc_ic_t2f_mou_7\n",
      "loc_ic_t2f_mou_8\n",
      "loc_ic_mou_6\n",
      "loc_ic_mou_7\n",
      "loc_ic_mou_8\n",
      "std_ic_t2t_mou_6\n",
      "std_ic_t2t_mou_7\n",
      "std_ic_t2t_mou_8\n",
      "std_ic_t2m_mou_6\n",
      "std_ic_t2m_mou_7\n",
      "std_ic_t2m_mou_8\n",
      "std_ic_t2f_mou_6\n",
      "std_ic_t2f_mou_7\n",
      "std_ic_t2f_mou_8\n",
      "std_ic_t2o_mou_6\n",
      "std_ic_t2o_mou_7\n",
      "std_ic_t2o_mou_8\n",
      "std_ic_mou_6\n",
      "std_ic_mou_7\n",
      "std_ic_mou_8\n",
      "total_ic_mou_6\n",
      "total_ic_mou_7\n",
      "total_ic_mou_8\n",
      "spl_ic_mou_6\n",
      "spl_ic_mou_7\n",
      "spl_ic_mou_8\n",
      "isd_ic_mou_6\n",
      "isd_ic_mou_7\n",
      "isd_ic_mou_8\n",
      "ic_others_6\n",
      "ic_others_7\n",
      "ic_others_8\n",
      "total_rech_num_6\n",
      "total_rech_num_7\n",
      "total_rech_num_8\n",
      "total_rech_amt_6\n",
      "total_rech_amt_7\n",
      "total_rech_amt_8\n",
      "max_rech_amt_6\n",
      "max_rech_amt_7\n",
      "max_rech_amt_8\n",
      "date_of_last_rech_6\n",
      "date_of_last_rech_7\n",
      "date_of_last_rech_8\n",
      "last_day_rch_amt_6\n",
      "last_day_rch_amt_7\n",
      "last_day_rch_amt_8\n",
      "date_of_last_rech_data_6\n",
      "date_of_last_rech_data_7\n",
      "date_of_last_rech_data_8\n",
      "total_rech_data_6\n",
      "total_rech_data_7\n",
      "total_rech_data_8\n",
      "max_rech_data_6\n",
      "max_rech_data_7\n",
      "max_rech_data_8\n",
      "count_rech_2g_6\n",
      "count_rech_2g_7\n",
      "count_rech_2g_8\n",
      "count_rech_3g_6\n",
      "count_rech_3g_7\n",
      "count_rech_3g_8\n",
      "av_rech_amt_data_6\n",
      "av_rech_amt_data_7\n",
      "av_rech_amt_data_8\n",
      "vol_2g_mb_6\n",
      "vol_2g_mb_7\n",
      "vol_2g_mb_8\n",
      "vol_3g_mb_6\n",
      "vol_3g_mb_7\n",
      "vol_3g_mb_8\n",
      "arpu_3g_6\n",
      "arpu_3g_7\n",
      "arpu_3g_8\n",
      "arpu_2g_6\n",
      "arpu_2g_7\n",
      "arpu_2g_8\n",
      "night_pck_user_6\n",
      "night_pck_user_7\n",
      "night_pck_user_8\n",
      "monthly_2g_6\n",
      "monthly_2g_7\n",
      "monthly_2g_8\n",
      "sachet_2g_6\n",
      "sachet_2g_7\n",
      "sachet_2g_8\n",
      "monthly_3g_6\n",
      "monthly_3g_7\n",
      "monthly_3g_8\n",
      "sachet_3g_6\n",
      "sachet_3g_7\n",
      "sachet_3g_8\n",
      "fb_user_6\n",
      "fb_user_7\n",
      "fb_user_8\n",
      "aon\n",
      "aug_vbc_3g\n",
      "jul_vbc_3g\n",
      "jun_vbc_3g\n",
      "churn_probability\n"
     ]
    }
   ],
   "source": [
    "# features before dropping value having null value more than 30% \n",
    "for i in df.columns:\n",
    "    print(i)"
   ]
  },
  {
   "cell_type": "code",
   "execution_count": 342,
   "id": "22e1e43e",
   "metadata": {},
   "outputs": [],
   "source": [
    "# Dropping features more than 30% null values in train set\n",
    "df = df.drop(df.columns[df.apply(lambda col: col.isnull().sum()/len(df) > 0.30)], axis=1)"
   ]
  },
  {
   "cell_type": "code",
   "execution_count": 343,
   "id": "f7cfd4ff",
   "metadata": {},
   "outputs": [
    {
     "name": "stdout",
     "output_type": "stream",
     "text": [
      "id\n",
      "circle_id\n",
      "loc_og_t2o_mou\n",
      "std_og_t2o_mou\n",
      "loc_ic_t2o_mou\n",
      "last_date_of_month_6\n",
      "last_date_of_month_7\n",
      "last_date_of_month_8\n",
      "arpu_6\n",
      "arpu_7\n",
      "arpu_8\n",
      "onnet_mou_6\n",
      "onnet_mou_7\n",
      "onnet_mou_8\n",
      "offnet_mou_6\n",
      "offnet_mou_7\n",
      "offnet_mou_8\n",
      "roam_ic_mou_6\n",
      "roam_ic_mou_7\n",
      "roam_ic_mou_8\n",
      "roam_og_mou_6\n",
      "roam_og_mou_7\n",
      "roam_og_mou_8\n",
      "loc_og_t2t_mou_6\n",
      "loc_og_t2t_mou_7\n",
      "loc_og_t2t_mou_8\n",
      "loc_og_t2m_mou_6\n",
      "loc_og_t2m_mou_7\n",
      "loc_og_t2m_mou_8\n",
      "loc_og_t2f_mou_6\n",
      "loc_og_t2f_mou_7\n",
      "loc_og_t2f_mou_8\n",
      "loc_og_t2c_mou_6\n",
      "loc_og_t2c_mou_7\n",
      "loc_og_t2c_mou_8\n",
      "loc_og_mou_6\n",
      "loc_og_mou_7\n",
      "loc_og_mou_8\n",
      "std_og_t2t_mou_6\n",
      "std_og_t2t_mou_7\n",
      "std_og_t2t_mou_8\n",
      "std_og_t2m_mou_6\n",
      "std_og_t2m_mou_7\n",
      "std_og_t2m_mou_8\n",
      "std_og_t2f_mou_6\n",
      "std_og_t2f_mou_7\n",
      "std_og_t2f_mou_8\n",
      "std_og_t2c_mou_6\n",
      "std_og_t2c_mou_7\n",
      "std_og_t2c_mou_8\n",
      "std_og_mou_6\n",
      "std_og_mou_7\n",
      "std_og_mou_8\n",
      "isd_og_mou_6\n",
      "isd_og_mou_7\n",
      "isd_og_mou_8\n",
      "spl_og_mou_6\n",
      "spl_og_mou_7\n",
      "spl_og_mou_8\n",
      "og_others_6\n",
      "og_others_7\n",
      "og_others_8\n",
      "total_og_mou_6\n",
      "total_og_mou_7\n",
      "total_og_mou_8\n",
      "loc_ic_t2t_mou_6\n",
      "loc_ic_t2t_mou_7\n",
      "loc_ic_t2t_mou_8\n",
      "loc_ic_t2m_mou_6\n",
      "loc_ic_t2m_mou_7\n",
      "loc_ic_t2m_mou_8\n",
      "loc_ic_t2f_mou_6\n",
      "loc_ic_t2f_mou_7\n",
      "loc_ic_t2f_mou_8\n",
      "loc_ic_mou_6\n",
      "loc_ic_mou_7\n",
      "loc_ic_mou_8\n",
      "std_ic_t2t_mou_6\n",
      "std_ic_t2t_mou_7\n",
      "std_ic_t2t_mou_8\n",
      "std_ic_t2m_mou_6\n",
      "std_ic_t2m_mou_7\n",
      "std_ic_t2m_mou_8\n",
      "std_ic_t2f_mou_6\n",
      "std_ic_t2f_mou_7\n",
      "std_ic_t2f_mou_8\n",
      "std_ic_t2o_mou_6\n",
      "std_ic_t2o_mou_7\n",
      "std_ic_t2o_mou_8\n",
      "std_ic_mou_6\n",
      "std_ic_mou_7\n",
      "std_ic_mou_8\n",
      "total_ic_mou_6\n",
      "total_ic_mou_7\n",
      "total_ic_mou_8\n",
      "spl_ic_mou_6\n",
      "spl_ic_mou_7\n",
      "spl_ic_mou_8\n",
      "isd_ic_mou_6\n",
      "isd_ic_mou_7\n",
      "isd_ic_mou_8\n",
      "ic_others_6\n",
      "ic_others_7\n",
      "ic_others_8\n",
      "total_rech_num_6\n",
      "total_rech_num_7\n",
      "total_rech_num_8\n",
      "total_rech_amt_6\n",
      "total_rech_amt_7\n",
      "total_rech_amt_8\n",
      "max_rech_amt_6\n",
      "max_rech_amt_7\n",
      "max_rech_amt_8\n",
      "date_of_last_rech_6\n",
      "date_of_last_rech_7\n",
      "date_of_last_rech_8\n",
      "last_day_rch_amt_6\n",
      "last_day_rch_amt_7\n",
      "last_day_rch_amt_8\n",
      "vol_2g_mb_6\n",
      "vol_2g_mb_7\n",
      "vol_2g_mb_8\n",
      "vol_3g_mb_6\n",
      "vol_3g_mb_7\n",
      "vol_3g_mb_8\n",
      "monthly_2g_6\n",
      "monthly_2g_7\n",
      "monthly_2g_8\n",
      "sachet_2g_6\n",
      "sachet_2g_7\n",
      "sachet_2g_8\n",
      "monthly_3g_6\n",
      "monthly_3g_7\n",
      "monthly_3g_8\n",
      "sachet_3g_6\n",
      "sachet_3g_7\n",
      "sachet_3g_8\n",
      "aon\n",
      "aug_vbc_3g\n",
      "jul_vbc_3g\n",
      "jun_vbc_3g\n",
      "churn_probability\n"
     ]
    }
   ],
   "source": [
    "# features after dropping value having null value more than 30%.\n",
    "for i in df.columns:\n",
    "    print(i)"
   ]
  },
  {
   "cell_type": "code",
   "execution_count": 344,
   "id": "41122a56",
   "metadata": {},
   "outputs": [],
   "source": [
    "# 30 features had null values more than 30% so dropped it."
   ]
  },
  {
   "cell_type": "code",
   "execution_count": 345,
   "id": "2bcfee37",
   "metadata": {},
   "outputs": [
    {
     "data": {
      "text/plain": [
       "(69999, 142)"
      ]
     },
     "execution_count": 345,
     "metadata": {},
     "output_type": "execute_result"
    }
   ],
   "source": [
    "df.shape"
   ]
  },
  {
   "cell_type": "code",
   "execution_count": 346,
   "id": "a729dd1d",
   "metadata": {},
   "outputs": [
    {
     "data": {
      "text/plain": [
       "(30000, 141)"
      ]
     },
     "execution_count": 346,
     "metadata": {},
     "output_type": "execute_result"
    }
   ],
   "source": [
    "# Dropping features more than 30% null values in test set\n",
    "df_test = df_test.drop(df_test.columns[df_test.apply(lambda col: col.isnull().sum()/len(df_test) > 0.30)], axis=1)\n",
    "df_test.shape"
   ]
  },
  {
   "cell_type": "markdown",
   "id": "3a45e283",
   "metadata": {},
   "source": [
    "#### Observation : Total 30 features having null values more than 30% in test set, dropped it"
   ]
  },
  {
   "cell_type": "code",
   "execution_count": 347,
   "id": "c23128fa",
   "metadata": {},
   "outputs": [
    {
     "data": {
      "text/plain": [
       "(69999, 129)"
      ]
     },
     "execution_count": 347,
     "metadata": {},
     "output_type": "execute_result"
    }
   ],
   "source": [
    "# dropping features have only one value in column or have only one unique value in train set\n",
    "for i in df.columns:\n",
    "    if df[i].nunique() == 1:\n",
    "        df.drop(i,axis=1,inplace = True)\n",
    "df.shape"
   ]
  },
  {
   "cell_type": "markdown",
   "id": "11d8ac11",
   "metadata": {},
   "source": [
    "#### Observation : Total 13 features with unique value in train set, dropped it"
   ]
  },
  {
   "cell_type": "code",
   "execution_count": 348,
   "id": "3ee2f0a4",
   "metadata": {},
   "outputs": [
    {
     "data": {
      "text/plain": [
       "(30000, 128)"
      ]
     },
     "execution_count": 348,
     "metadata": {},
     "output_type": "execute_result"
    }
   ],
   "source": [
    "# dropping features have only one value in column or have only one unique value\n",
    "for i in df_test.columns:\n",
    "    if df_test[i].nunique() == 1:\n",
    "        df_test.drop(i,axis=1,inplace = True)\n",
    "df_test.shape"
   ]
  },
  {
   "cell_type": "markdown",
   "id": "1c8f96d0",
   "metadata": {},
   "source": [
    "#### Observation  : Total 13 features with unique value in test set, dropped it"
   ]
  },
  {
   "cell_type": "code",
   "execution_count": 349,
   "id": "182b9b1e",
   "metadata": {},
   "outputs": [
    {
     "data": {
      "text/plain": [
       "(758, 129)"
      ]
     },
     "execution_count": 349,
     "metadata": {},
     "output_type": "execute_result"
    }
   ],
   "source": [
    "# Count the rows having more than 50% missing values\n",
    "df_missing_rows = df[(df.isnull().sum(axis=1)) > (len(df.columns)//2)]\n",
    "df_missing_rows.shape"
   ]
  },
  {
   "cell_type": "markdown",
   "id": "c3b2b504",
   "metadata": {},
   "source": [
    "#### Observation : 758 rows have missing values in train set"
   ]
  },
  {
   "cell_type": "code",
   "execution_count": 350,
   "id": "aa9af004",
   "metadata": {},
   "outputs": [
    {
     "data": {
      "text/plain": [
       "(69241, 129)"
      ]
     },
     "execution_count": 350,
     "metadata": {},
     "output_type": "execute_result"
    }
   ],
   "source": [
    "df = df.drop(df_missing_rows.index)\n",
    "df.shape"
   ]
  },
  {
   "cell_type": "markdown",
   "id": "f030ee4c",
   "metadata": {},
   "source": [
    "#### Observation : After dropping rows with missing values more than 50%, 69241 rows remains in train set"
   ]
  },
  {
   "cell_type": "code",
   "execution_count": 351,
   "id": "3cdbd733",
   "metadata": {},
   "outputs": [
    {
     "data": {
      "text/plain": [
       "id                      0\n",
       "arpu_6                  0\n",
       "arpu_7                  0\n",
       "arpu_8                  0\n",
       "onnet_mou_6          2010\n",
       "                     ... \n",
       "aon                     0\n",
       "aug_vbc_3g              0\n",
       "jul_vbc_3g              0\n",
       "jun_vbc_3g              0\n",
       "churn_probability       0\n",
       "Length: 129, dtype: int64"
      ]
     },
     "execution_count": 351,
     "metadata": {},
     "output_type": "execute_result"
    }
   ],
   "source": [
    "# checking count of null value of each feature in train set.\n",
    "df.isnull().sum()"
   ]
  },
  {
   "cell_type": "code",
   "execution_count": 352,
   "id": "6a635a9e",
   "metadata": {},
   "outputs": [
    {
     "data": {
      "text/plain": [
       "id                0\n",
       "arpu_6            0\n",
       "arpu_7            0\n",
       "arpu_8            0\n",
       "onnet_mou_6    1169\n",
       "               ... \n",
       "sachet_3g_8       0\n",
       "aon               0\n",
       "aug_vbc_3g        0\n",
       "jul_vbc_3g        0\n",
       "jun_vbc_3g        0\n",
       "Length: 128, dtype: int64"
      ]
     },
     "execution_count": 352,
     "metadata": {},
     "output_type": "execute_result"
    }
   ],
   "source": [
    "# checking count of null value of each feature in test set.\n",
    "df_test.isnull().sum()"
   ]
  },
  {
   "cell_type": "code",
   "execution_count": 353,
   "id": "c7e8275e",
   "metadata": {},
   "outputs": [],
   "source": [
    "# imputing median value in place of null values in train set\n",
    "df.fillna(df[df.columns].median(),inplace=True)"
   ]
  },
  {
   "cell_type": "code",
   "execution_count": 354,
   "id": "2b824016",
   "metadata": {},
   "outputs": [],
   "source": [
    "# imputing median value in place of null values in test set\n",
    "df_test.fillna(df_test[df_test.columns].median(),inplace=True)"
   ]
  },
  {
   "cell_type": "code",
   "execution_count": 355,
   "id": "5c021fd0",
   "metadata": {},
   "outputs": [
    {
     "data": {
      "text/plain": [
       "id                   0\n",
       "arpu_6               0\n",
       "arpu_7               0\n",
       "arpu_8               0\n",
       "onnet_mou_6          0\n",
       "                    ..\n",
       "aon                  0\n",
       "aug_vbc_3g           0\n",
       "jul_vbc_3g           0\n",
       "jun_vbc_3g           0\n",
       "churn_probability    0\n",
       "Length: 129, dtype: int64"
      ]
     },
     "execution_count": 355,
     "metadata": {},
     "output_type": "execute_result"
    }
   ],
   "source": [
    "df.isnull().sum()"
   ]
  },
  {
   "cell_type": "code",
   "execution_count": 356,
   "id": "f16f0df1",
   "metadata": {},
   "outputs": [],
   "source": [
    "# no null values after imputting median value in train set"
   ]
  },
  {
   "cell_type": "code",
   "execution_count": 357,
   "id": "8c078193",
   "metadata": {},
   "outputs": [
    {
     "data": {
      "text/plain": [
       "id             0\n",
       "arpu_6         0\n",
       "arpu_7         0\n",
       "arpu_8         0\n",
       "onnet_mou_6    0\n",
       "              ..\n",
       "sachet_3g_8    0\n",
       "aon            0\n",
       "aug_vbc_3g     0\n",
       "jul_vbc_3g     0\n",
       "jun_vbc_3g     0\n",
       "Length: 128, dtype: int64"
      ]
     },
     "execution_count": 357,
     "metadata": {},
     "output_type": "execute_result"
    }
   ],
   "source": [
    "df_test.isnull().sum()"
   ]
  },
  {
   "cell_type": "code",
   "execution_count": 358,
   "id": "b2d5310a",
   "metadata": {},
   "outputs": [],
   "source": [
    "# no null values after imputting median value in test set"
   ]
  },
  {
   "cell_type": "code",
   "execution_count": 359,
   "id": "53275ac0",
   "metadata": {},
   "outputs": [
    {
     "data": {
      "text/plain": [
       "Index(['id', 'arpu_6', 'arpu_7', 'arpu_8', 'onnet_mou_6', 'onnet_mou_7',\n",
       "       'onnet_mou_8', 'offnet_mou_6', 'offnet_mou_7', 'offnet_mou_8',\n",
       "       ...\n",
       "       'monthly_3g_7', 'monthly_3g_8', 'sachet_3g_6', 'sachet_3g_7',\n",
       "       'sachet_3g_8', 'aon', 'aug_vbc_3g', 'jul_vbc_3g', 'jun_vbc_3g',\n",
       "       'churn_probability'],\n",
       "      dtype='object', length=129)"
      ]
     },
     "execution_count": 359,
     "metadata": {},
     "output_type": "execute_result"
    }
   ],
   "source": [
    "df.columns"
   ]
  },
  {
   "cell_type": "code",
   "execution_count": 360,
   "id": "01538d87",
   "metadata": {},
   "outputs": [],
   "source": [
    "# Dropping ID column from both Train as well as Test Data\n",
    "\n",
    "df.drop(columns = 'id', axis = 1, inplace = True)\n",
    "df_test.drop(columns = 'id', axis = 1, inplace = True)"
   ]
  },
  {
   "cell_type": "code",
   "execution_count": 361,
   "id": "0b0f845f",
   "metadata": {},
   "outputs": [
    {
     "data": {
      "text/plain": [
       "0    90.478185\n",
       "1     9.521815\n",
       "Name: churn_probability, dtype: float64"
      ]
     },
     "execution_count": 361,
     "metadata": {},
     "output_type": "execute_result"
    }
   ],
   "source": [
    "# Calculating Churn Probability\n",
    "df['churn_probability'].value_counts()/len(df)*100"
   ]
  },
  {
   "cell_type": "code",
   "execution_count": 362,
   "id": "ec70df88",
   "metadata": {},
   "outputs": [
    {
     "name": "stdout",
     "output_type": "stream",
     "text": [
      "['date_of_last_rech_6', 'date_of_last_rech_7', 'date_of_last_rech_8']\n"
     ]
    }
   ],
   "source": [
    "# Finding Date column list\n",
    "date_cols = [k for k in df.columns.to_list() if 'date' in k]\n",
    "print(date_cols) "
   ]
  },
  {
   "cell_type": "code",
   "execution_count": 363,
   "id": "6e90ad60",
   "metadata": {},
   "outputs": [],
   "source": [
    "# Date columns doesn't have sufficient amount of data so dropping it from train set\n",
    "df = df.drop(date_cols, axis=1)"
   ]
  },
  {
   "cell_type": "code",
   "execution_count": 364,
   "id": "2fd9a733",
   "metadata": {},
   "outputs": [],
   "source": [
    "# Date columns doesn't have sufficient amount of data so dropping it from test set\n",
    "df_test = df_test.drop(date_cols, axis=1)"
   ]
  },
  {
   "cell_type": "code",
   "execution_count": 365,
   "id": "e1a2a4a5",
   "metadata": {},
   "outputs": [
    {
     "name": "stdout",
     "output_type": "stream",
     "text": [
      "(69241, 125)\n",
      "(30000, 124)\n"
     ]
    }
   ],
   "source": [
    "# Printing shape of train and test data\n",
    "print(df.shape)\n",
    "print(df_test.shape)"
   ]
  },
  {
   "cell_type": "code",
   "execution_count": 366,
   "id": "63e22053",
   "metadata": {},
   "outputs": [],
   "source": [
    "# Handling outliers of numerical variables by taking upper_quantile=0.99 and lower_quantile=0.25\n",
    "def drop_outliers(x):\n",
    "    lists = []\n",
    "    for col in df.columns:\n",
    "        Q1 = x[col].quantile(.25)\n",
    "        Q3 = x[col].quantile(.99)\n",
    "        IQR = Q3-Q1\n",
    "        x =  x[(x[col] >= (Q1-(1.5*IQR))) & (x[col] <= (Q3+(1.5*IQR)))] \n",
    "    return x   \n",
    "\n",
    "df = drop_outliers(df)"
   ]
  },
  {
   "cell_type": "code",
   "execution_count": 367,
   "id": "f42df115",
   "metadata": {},
   "outputs": [
    {
     "name": "stdout",
     "output_type": "stream",
     "text": [
      "(61009, 125)\n",
      "(30000, 124)\n"
     ]
    }
   ],
   "source": [
    "# Printing shape of train and test data\n",
    "print(df.shape)\n",
    "print(df_test.shape)"
   ]
  },
  {
   "cell_type": "markdown",
   "id": "678ce16e",
   "metadata": {},
   "source": [
    "#### Observation : after removing outliers from train set we can observe reduction in rows"
   ]
  },
  {
   "cell_type": "markdown",
   "id": "5be05800",
   "metadata": {},
   "source": [
    "## EDA (Exploratory Data Analysis)"
   ]
  },
  {
   "cell_type": "code",
   "execution_count": null,
   "id": "0f63bbd3",
   "metadata": {},
   "outputs": [],
   "source": [
    "# Printing box plot of all the columns with repect to \"churn_probability\"\n",
    "for col in df.columns:\n",
    "    plt.figure()\n",
    "    sns.boxplot(x=col, y='churn_probability', data=df)\n",
    "    plt.show()"
   ]
  },
  {
   "cell_type": "code",
   "execution_count": null,
   "id": "eb4e129e",
   "metadata": {},
   "outputs": [],
   "source": [
    "# bar plot of important feature with target variable.\n",
    "plt.figure()\n",
    "sns.barplot(x='churn_probability', y='total_og_mou_6', data=df)\n",
    "plt.figure()\n",
    "sns.barplot(x='churn_probability', y='total_og_mou_7', data=df)\n",
    "plt.show()\n",
    "plt.figure()\n",
    "sns.barplot(x='churn_probability', y='total_og_mou_8', data=df)\n",
    "plt.figure()\n",
    "sns.barplot(x='churn_probability', y='onnet_mou_6', data=df)\n",
    "plt.show()\n",
    "plt.figure()\n",
    "sns.barplot(x='churn_probability', y='onnet_mou_7', data=df)\n",
    "plt.show()\n",
    "plt.figure()\n",
    "sns.barplot(x='churn_probability', y='onnet_mou_8', data=df)\n",
    "plt.figure()"
   ]
  },
  {
   "cell_type": "markdown",
   "id": "0b3f5f88",
   "metadata": {},
   "source": [
    "### Observations\n",
    "\n",
    "#### Due to Outgoing voice calls , churn is maximum in month_6  then month_7 and month_8 it decreases fastly\n",
    "#### Probability of being churn is less in outgoing month_7 as well in month_8\n",
    "#### Probability of being churn is more in onnet voice call month_6 and less in month_8\n",
    "#### Probability of being churn or non_churn is same for onnet voice call month_7"
   ]
  },
  {
   "cell_type": "code",
   "execution_count": null,
   "id": "d9b98f5d",
   "metadata": {},
   "outputs": [],
   "source": [
    "plt.figure()\n",
    "sns.barplot(x='churn_probability', y='total_rech_num_6', data=df)\n",
    "plt.figure()\n",
    "sns.barplot(x='churn_probability', y='total_rech_num_7', data=df)\n",
    "plt.show()\n",
    "plt.figure()\n",
    "sns.barplot(x='churn_probability', y='total_rech_num_8', data=df)\n",
    "plt.figure()\n",
    "sns.barplot(x='churn_probability', y='total_rech_amt_6', data=df)\n",
    "plt.show()\n",
    "plt.figure()\n",
    "sns.barplot(x='churn_probability', y='total_rech_amt_7', data=df)\n",
    "plt.show()\n",
    "plt.figure()\n",
    "sns.barplot(x='churn_probability', y='total_rech_amt_8', data=df)\n",
    "plt.figure()"
   ]
  },
  {
   "cell_type": "markdown",
   "id": "4d51a3b8",
   "metadata": {},
   "source": [
    "### Observations\n",
    "\n",
    "#### Probability of being churn is less for the customers who recharge or recharge more amount in month_8"
   ]
  },
  {
   "cell_type": "code",
   "execution_count": null,
   "id": "0a6fdd3d",
   "metadata": {},
   "outputs": [],
   "source": [
    "plt.figure()\n",
    "sns.barplot(x='churn_probability', y='aon', data=df)\n",
    "plt.show()"
   ]
  },
  {
   "cell_type": "markdown",
   "id": "1082d07f",
   "metadata": {},
   "source": [
    "### Observation\n",
    "#### If operator is using same network(T) from many days then its probabilty to churn is less."
   ]
  },
  {
   "cell_type": "code",
   "execution_count": null,
   "id": "4040bc31",
   "metadata": {},
   "outputs": [],
   "source": [
    "plt.figure()\n",
    "sns.boxplot(x='churn_probability', y='aon', data=df)\n",
    "plt.show()"
   ]
  },
  {
   "cell_type": "markdown",
   "id": "098c3660",
   "metadata": {},
   "source": [
    "### Observation\n",
    "#### Mean amount of churn is equal to 25% of non-churn"
   ]
  },
  {
   "cell_type": "code",
   "execution_count": null,
   "id": "819b88e5",
   "metadata": {},
   "outputs": [],
   "source": [
    "plt.figure()\n",
    "sns.barplot(x='churn_probability', y='vol_2g_mb_6', data=df)\n",
    "plt.figure()\n",
    "sns.barplot(x='churn_probability', y='vol_2g_mb_7', data=df)\n",
    "plt.show()\n",
    "plt.figure()\n",
    "sns.barplot(x='churn_probability', y='vol_2g_mb_8', data=df)\n",
    "plt.figure()\n",
    "sns.barplot(x='churn_probability', y='vol_3g_mb_6', data=df)\n",
    "plt.show()\n",
    "plt.figure()\n",
    "sns.barplot(x='churn_probability', y='vol_3g_mb_7', data=df)\n",
    "plt.show()\n",
    "plt.figure()\n",
    "sns.barplot(x='churn_probability', y='vol_3g_mb_8', data=df)\n",
    "plt.figure()"
   ]
  },
  {
   "cell_type": "markdown",
   "id": "6c298b12",
   "metadata": {},
   "source": [
    "### Observation\n",
    "#### Customer with more usage of 2g and 3g data churns less with 8 month customer"
   ]
  },
  {
   "cell_type": "code",
   "execution_count": null,
   "id": "6fd3841c",
   "metadata": {},
   "outputs": [],
   "source": [
    "# Printing shape of train and test data\n",
    "print(df.shape)\n",
    "print(df_test.shape)"
   ]
  },
  {
   "cell_type": "markdown",
   "id": "ca27be45",
   "metadata": {},
   "source": [
    "## Data preprocessing"
   ]
  },
  {
   "cell_type": "code",
   "execution_count": null,
   "id": "ccb504ef",
   "metadata": {},
   "outputs": [],
   "source": [
    "from sklearn.preprocessing import StandardScaler\n",
    "from sklearn.model_selection import train_test_split"
   ]
  },
  {
   "cell_type": "code",
   "execution_count": null,
   "id": "cc752f69",
   "metadata": {},
   "outputs": [],
   "source": [
    "# Dividing into X and y sets for the model building\n",
    "X = df.drop('churn_probability', axis = 1)\n",
    "y = df['churn_probability']"
   ]
  },
  {
   "cell_type": "code",
   "execution_count": null,
   "id": "cb75904f",
   "metadata": {},
   "outputs": [],
   "source": [
    "# Checking shape of X and Y set\n",
    "print(X.shape)\n",
    "y.shape"
   ]
  },
  {
   "cell_type": "markdown",
   "id": "a85135bf",
   "metadata": {},
   "source": [
    "## Train-test split"
   ]
  },
  {
   "cell_type": "code",
   "execution_count": null,
   "id": "b9d99800",
   "metadata": {},
   "outputs": [],
   "source": [
    "# splited data into train and test results in train data containing 75% of data and test data containing 25% of data\n",
    "X_train, X_test, y_train, y_test = train_test_split(X, y, test_size = 0.25, random_state = 100)"
   ]
  },
  {
   "cell_type": "code",
   "execution_count": null,
   "id": "98253327",
   "metadata": {},
   "outputs": [],
   "source": [
    "# Checking shape of X-test set\n",
    "X_test.shape"
   ]
  },
  {
   "cell_type": "code",
   "execution_count": null,
   "id": "228fee3c",
   "metadata": {},
   "outputs": [],
   "source": [
    "# Checking shape of X-train set\n",
    "X_train.shape"
   ]
  },
  {
   "cell_type": "code",
   "execution_count": null,
   "id": "a28ff888",
   "metadata": {},
   "outputs": [],
   "source": [
    "# Checking shape of y-test set\n",
    "y_train.shape"
   ]
  },
  {
   "cell_type": "markdown",
   "id": "c8f83c4f",
   "metadata": {},
   "source": [
    "# Scaling features"
   ]
  },
  {
   "cell_type": "code",
   "execution_count": null,
   "id": "f61481d6",
   "metadata": {},
   "outputs": [],
   "source": [
    "# Rescaling the Features\n",
    "# We will use MinMax scaling.\n",
    "from sklearn.preprocessing import MinMaxScaler\n",
    "scaler = MinMaxScaler()"
   ]
  },
  {
   "cell_type": "code",
   "execution_count": null,
   "id": "ccf36080",
   "metadata": {},
   "outputs": [],
   "source": [
    "# scaling train and test set\n",
    "X_train_sc = scaler.fit_transform(X_train)\n",
    "X_test_sc = scaler.transform(X_test)"
   ]
  },
  {
   "cell_type": "code",
   "execution_count": null,
   "id": "14340488",
   "metadata": {},
   "outputs": [],
   "source": [
    "# Checking shape of X-train set after fit transformation\n",
    "X_train_sc.shape"
   ]
  },
  {
   "cell_type": "code",
   "execution_count": null,
   "id": "324452a5",
   "metadata": {},
   "outputs": [],
   "source": [
    "# Checking shape of X-test set after transformation\n",
    "X_test_sc.shape"
   ]
  },
  {
   "cell_type": "code",
   "execution_count": null,
   "id": "1a8f948b",
   "metadata": {},
   "outputs": [],
   "source": [
    "# Checking data of X-train set after fit transformation\n",
    "X_train_sc"
   ]
  },
  {
   "cell_type": "code",
   "execution_count": null,
   "id": "1c45643b",
   "metadata": {},
   "outputs": [],
   "source": [
    "# Checking data of Y-test set after  transformation\n",
    "X_test_sc"
   ]
  },
  {
   "cell_type": "markdown",
   "id": "dee2ed59",
   "metadata": {},
   "source": [
    "## PCA (Principal Component Analysis)"
   ]
  },
  {
   "cell_type": "code",
   "execution_count": null,
   "id": "25318c7d",
   "metadata": {},
   "outputs": [],
   "source": [
    "# Importing PCA module\n",
    "# fitting PCA on scaled training set\n",
    "from sklearn.decomposition import PCA\n",
    "pca = PCA(random_state=42)\n",
    "pca.fit(X_train_sc)"
   ]
  },
  {
   "cell_type": "code",
   "execution_count": null,
   "id": "924ec689",
   "metadata": {},
   "outputs": [],
   "source": [
    "# Checking pca components value after PCA fit on train-set \n",
    "pca.components_"
   ]
  },
  {
   "cell_type": "code",
   "execution_count": null,
   "id": "92b27950",
   "metadata": {},
   "outputs": [],
   "source": [
    "# Checking pca components variance after PCA fit on train-set \n",
    "pca.explained_variance_ratio_"
   ]
  },
  {
   "cell_type": "code",
   "execution_count": null,
   "id": "450d2abd",
   "metadata": {},
   "outputs": [],
   "source": [
    "import matplotlib.pyplot as plt"
   ]
  },
  {
   "cell_type": "code",
   "execution_count": null,
   "id": "5678bdaa",
   "metadata": {},
   "outputs": [],
   "source": [
    "# Visualisation of no. of PCs with variance\n",
    "plt.bar(range(1,len(pca.explained_variance_ratio_)+1), pca.explained_variance_ratio_)"
   ]
  },
  {
   "cell_type": "markdown",
   "id": "d5e43b81",
   "metadata": {},
   "source": [
    "#### Observation : PCA_1 component has 15% information(maximum), PCA_2 component has 10% information and has we go further component containing  information decreases."
   ]
  },
  {
   "cell_type": "code",
   "execution_count": null,
   "id": "545a2d0b",
   "metadata": {},
   "outputs": [],
   "source": [
    "var_cumu = np.cumsum(pca.explained_variance_ratio_)"
   ]
  },
  {
   "cell_type": "code",
   "execution_count": null,
   "id": "cbd911fb",
   "metadata": {},
   "outputs": [],
   "source": [
    "# Scree plot to find the no. of PC required to get desired value of variance\n",
    "plt.plot(range(1,len(var_cumu)+1), var_cumu)"
   ]
  },
  {
   "cell_type": "code",
   "execution_count": null,
   "id": "ae4d6b60",
   "metadata": {},
   "outputs": [],
   "source": [
    "# Calculating the Principle components for variance cover of 95%\n",
    "pca_avg = PCA(0.95)"
   ]
  },
  {
   "cell_type": "code",
   "execution_count": null,
   "id": "f1078263",
   "metadata": {},
   "outputs": [],
   "source": [
    "#Applying PCA components to train set\n",
    "df_train_pca = pca_avg.fit_transform(X_train_sc)\n",
    "df_train_pca.shape"
   ]
  },
  {
   "cell_type": "code",
   "execution_count": null,
   "id": "82229f1a",
   "metadata": {},
   "outputs": [],
   "source": [
    "# Applying the PCA components to Test Set\n",
    "\n",
    "df_test_pca = pca_avg.transform(X_test_sc)\n",
    "df_test_pca.shape"
   ]
  },
  {
   "cell_type": "markdown",
   "id": "744edfc7",
   "metadata": {},
   "source": [
    "#### Observation : after performing dimensional reduction variables decrease to 64 on both train and test set"
   ]
  },
  {
   "cell_type": "code",
   "execution_count": null,
   "id": "4f5afd12",
   "metadata": {},
   "outputs": [],
   "source": [
    "# checking correlation between features after performing PCA on train set\n",
    "corr = np.corrcoef(df_train_pca.transpose())\n",
    "plt.figure(figsize = (30, 30))\n",
    "sns.heatmap(corr)\n",
    "plt.show()"
   ]
  },
  {
   "cell_type": "code",
   "execution_count": null,
   "id": "9f97c650",
   "metadata": {},
   "outputs": [],
   "source": [
    "# checking correlation between features after performing PCA on test set\n",
    "corr = np.corrcoef(df_test_pca.transpose())\n",
    "plt.figure(figsize = (30, 30))\n",
    "sns.heatmap(corr)\n",
    "plt.show()"
   ]
  },
  {
   "cell_type": "markdown",
   "id": "65162643",
   "metadata": {},
   "source": [
    "#### Observation : correlation handled by PCA(no correlation between features) on both train and test set"
   ]
  },
  {
   "cell_type": "code",
   "execution_count": null,
   "id": "71edb151",
   "metadata": {},
   "outputs": [],
   "source": [
    "#Checking shape of PCs of train set \n",
    "df_train_pca.shape"
   ]
  },
  {
   "cell_type": "code",
   "execution_count": null,
   "id": "7b4d82c6",
   "metadata": {},
   "outputs": [],
   "source": [
    "#Checking shape of PCs of test set \n",
    "df_test_pca.shape"
   ]
  },
  {
   "cell_type": "markdown",
   "id": "91217136",
   "metadata": {},
   "source": [
    "## Logistic regression with PCA"
   ]
  },
  {
   "cell_type": "code",
   "execution_count": null,
   "id": "9d1707e5",
   "metadata": {},
   "outputs": [],
   "source": [
    "# Importing different module\n",
    "from sklearn.pipeline import Pipeline\n",
    "from sklearn.model_selection import GridSearchCV, RepeatedStratifiedKFold, StratifiedKFold, RandomizedSearchCV\n",
    "from sklearn.decomposition import PCA\n",
    "from sklearn.linear_model import LogisticRegression\n",
    "from sklearn.ensemble import RandomForestClassifier\n",
    "from xgboost import XGBClassifier\n",
    "from sklearn.metrics import classification_report, confusion_matrix\n",
    "from sklearn.experimental import enable_halving_search_cv\n",
    "from sklearn.model_selection import HalvingGridSearchCV\n",
    "from sklearn.feature_selection import RFE"
   ]
  },
  {
   "cell_type": "code",
   "execution_count": null,
   "id": "1a275f17",
   "metadata": {},
   "outputs": [],
   "source": [
    "# Assigning no. of split for the fold\n",
    "fold = StratifiedKFold(n_splits = 5)"
   ]
  },
  {
   "cell_type": "code",
   "execution_count": null,
   "id": "228b20fc",
   "metadata": {},
   "outputs": [],
   "source": [
    "# Creating a logistic regression model \n",
    "grid_lr = [\n",
    "    {    \"penalty\":['l1','l2'],\n",
    "        \"class_weight\":[{0:1,1:1}, {0:1,1:2}, {0:1,1:3}]\n",
    "    }    \n",
    "]\n",
    "\n",
    "gscv = GridSearchCV(LogisticRegression(solver='lbfgs'), grid_lr, cv = fold , scoring = 'accuracy', verbose = 1, n_jobs = -1)"
   ]
  },
  {
   "cell_type": "code",
   "execution_count": null,
   "id": "eb3a4d77",
   "metadata": {},
   "outputs": [],
   "source": [
    "# Fitting the model on trained PCs set\n",
    "gfit_lr = gscv.fit(df_train_pca, y_train)"
   ]
  },
  {
   "cell_type": "code",
   "execution_count": null,
   "id": "1a5ece37",
   "metadata": {},
   "outputs": [],
   "source": [
    "# Checking score and parameter of the model\n",
    "print(\"score : {}\".format(gfit_lr.best_score_))\n",
    "logistic_params = gfit_lr.best_params_\n",
    "print(logistic_params)"
   ]
  },
  {
   "cell_type": "markdown",
   "id": "b4d88593",
   "metadata": {},
   "source": [
    "#### Observation : accuracy of logistic regression is 91.65% on train set"
   ]
  },
  {
   "cell_type": "code",
   "execution_count": null,
   "id": "77672018",
   "metadata": {},
   "outputs": [],
   "source": [
    "# Finding best model\n",
    "lr_best = gfit_lr.best_estimator_"
   ]
  },
  {
   "cell_type": "code",
   "execution_count": null,
   "id": "42a5f227",
   "metadata": {},
   "outputs": [],
   "source": [
    "# Finding preddiction on the trainset\n",
    "X_train_pred = lr_best.predict(df_train_pca)"
   ]
  },
  {
   "cell_type": "code",
   "execution_count": null,
   "id": "d4ebec06",
   "metadata": {},
   "outputs": [],
   "source": [
    "# Printing coefficient of the best fit model\n",
    "print(lr_best.coef_.shape)\n",
    "lr_best.coef_"
   ]
  },
  {
   "cell_type": "code",
   "execution_count": null,
   "id": "97b560c2",
   "metadata": {},
   "outputs": [],
   "source": [
    "# Predicting on PCs test set\n",
    "y_pred_lr = lr_best.predict(df_test_pca)"
   ]
  },
  {
   "cell_type": "code",
   "execution_count": null,
   "id": "563cee61",
   "metadata": {},
   "outputs": [],
   "source": [
    "# Printing confusion matrix\n",
    "print(confusion_matrix(y_test, y_pred_lr))"
   ]
  },
  {
   "cell_type": "code",
   "execution_count": null,
   "id": "0bea18cd",
   "metadata": {},
   "outputs": [],
   "source": [
    "#Printing model report on the train and test set after PCA\n",
    "print(classification_report(y_test, y_pred_lr))"
   ]
  },
  {
   "cell_type": "markdown",
   "id": "39cee719",
   "metadata": {},
   "source": [
    "#### Observation : accuracy of logistic regression is 92.00% on test set"
   ]
  },
  {
   "cell_type": "markdown",
   "id": "49051ce0",
   "metadata": {},
   "source": [
    "## Finding ROC of Logistic + PCA model"
   ]
  },
  {
   "cell_type": "code",
   "execution_count": null,
   "id": "3d7e17b9",
   "metadata": {},
   "outputs": [],
   "source": [
    "def draw_roc( actual, probs ):\n",
    "    fpr, tpr, thresholds = metrics.roc_curve( actual, probs,\n",
    "                                              drop_intermediate = False )\n",
    "    auc_score = metrics.roc_auc_score( actual, probs )\n",
    "    plt.figure(figsize=(5, 5))\n",
    "    plt.plot( fpr, tpr, label='ROC curve (area = %0.2f)' % auc_score )\n",
    "    plt.plot([0, 1], [0, 1], 'k--')\n",
    "    plt.xlim([0.0, 1.0])\n",
    "    plt.ylim([0.0, 1.05])\n",
    "    plt.xlabel('False Positive Rate or [1 - True Negative Rate]')\n",
    "    plt.ylabel('True Positive Rate')\n",
    "    plt.title('Receiver operating characteristic example')\n",
    "    plt.legend(loc=\"lower right\")\n",
    "    plt.show()\n",
    "\n",
    "    return None"
   ]
  },
  {
   "cell_type": "code",
   "execution_count": null,
   "id": "d2912228",
   "metadata": {},
   "outputs": [],
   "source": [
    "from sklearn import metrics"
   ]
  },
  {
   "cell_type": "code",
   "execution_count": null,
   "id": "d4d18e3c",
   "metadata": {},
   "outputs": [],
   "source": [
    "fpr, tpr, thresholds = metrics.roc_curve( y_train, X_train_pred, drop_intermediate = False )"
   ]
  },
  {
   "cell_type": "code",
   "execution_count": null,
   "id": "4693a61b",
   "metadata": {},
   "outputs": [],
   "source": [
    "draw_roc(y_train, X_train_pred)"
   ]
  },
  {
   "cell_type": "markdown",
   "id": "6402bc52",
   "metadata": {},
   "source": [
    "#### Observation : ROC is 0.74"
   ]
  },
  {
   "cell_type": "markdown",
   "id": "5109165f",
   "metadata": {},
   "source": [
    "## Random forest with PCA"
   ]
  },
  {
   "cell_type": "code",
   "execution_count": null,
   "id": "c27d8e61",
   "metadata": {},
   "outputs": [],
   "source": [
    "# Creating a Random Forest model\n",
    "grid_rd = [\n",
    "    {   'n_estimators' : [250],\n",
    "        'max_depth' : [ 7], \n",
    "        'max_features' : [ 15],\n",
    "        'min_samples_split':[3, 4],\n",
    "        'min_samples_leaf':[1,2],\n",
    "        \"class_weight\":['balanced', {0:1,1:10}]\n",
    "    }    \n",
    "]\n",
    "\n",
    "gscv2 = HalvingGridSearchCV(RandomForestClassifier(random_state = 100), grid_rd, cv = fold , scoring = 'accuracy', verbose = 1, n_jobs = -1)"
   ]
  },
  {
   "cell_type": "code",
   "execution_count": null,
   "id": "e46dc3cf",
   "metadata": {},
   "outputs": [],
   "source": [
    "# Fitting the model on trained PCs set\n",
    "gfit_rd = gscv2.fit(df_train_pca, y_train)"
   ]
  },
  {
   "cell_type": "code",
   "execution_count": null,
   "id": "e7c51436",
   "metadata": {},
   "outputs": [],
   "source": [
    "# Checking score and parameter of the model\n",
    "print(\"score : {}\".format(gfit_rd.best_score_))\n",
    "gfit_rd.best_params_"
   ]
  },
  {
   "cell_type": "markdown",
   "id": "be07dc2e",
   "metadata": {},
   "source": [
    "#### Observation : Accuracy of random forest is 84.88% on train set"
   ]
  },
  {
   "cell_type": "code",
   "execution_count": null,
   "id": "25ca2388",
   "metadata": {},
   "outputs": [],
   "source": [
    "# Finding best model\n",
    "\n",
    "rf_best = gfit_rd.best_estimator_"
   ]
  },
  {
   "cell_type": "code",
   "execution_count": null,
   "id": "5e391dc8",
   "metadata": {},
   "outputs": [],
   "source": [
    "# Finding preddiction on the trainset\n",
    "\n",
    "X_train_pred_rd = rf_best.predict(df_train_pca)"
   ]
  },
  {
   "cell_type": "code",
   "execution_count": null,
   "id": "9e4dbab7",
   "metadata": {},
   "outputs": [],
   "source": [
    "# Printing important features\n",
    "\n",
    "rf_best.feature_importances_"
   ]
  },
  {
   "cell_type": "code",
   "execution_count": null,
   "id": "5c39ed8d",
   "metadata": {},
   "outputs": [],
   "source": [
    "# Predicting on PCs test set\n",
    "\n",
    "y_pred_rd = rf_best.predict(df_test_pca)"
   ]
  },
  {
   "cell_type": "code",
   "execution_count": null,
   "id": "dc67db20",
   "metadata": {},
   "outputs": [],
   "source": [
    "# Printing confusion matrix\n",
    "\n",
    "print(confusion_matrix(y_test, y_pred_rd))"
   ]
  },
  {
   "cell_type": "code",
   "execution_count": null,
   "id": "6db2d3db",
   "metadata": {},
   "outputs": [],
   "source": [
    "#Printing model report on the train and test set after PCA\n",
    "\n",
    "print(classification_report(y_test, y_pred_rd))"
   ]
  },
  {
   "cell_type": "markdown",
   "id": "e4e5d80b",
   "metadata": {},
   "source": [
    "### Observation\n",
    "#### Accuracy of random forest is 85% on test set"
   ]
  },
  {
   "cell_type": "markdown",
   "id": "689ceb42",
   "metadata": {},
   "source": [
    "## Finding ROC of Randon Forest  + PCA model"
   ]
  },
  {
   "cell_type": "code",
   "execution_count": null,
   "id": "330fe022",
   "metadata": {},
   "outputs": [],
   "source": [
    "def draw_roc( actual, probs ):\n",
    "    fpr, tpr, thresholds = metrics.roc_curve( actual, probs,\n",
    "                                              drop_intermediate = False )\n",
    "    auc_score = metrics.roc_auc_score( actual, probs )\n",
    "    plt.figure(figsize=(5, 5))\n",
    "    plt.plot( fpr, tpr, label='ROC curve (area = %0.2f)' % auc_score )\n",
    "    plt.plot([0, 1], [0, 1], 'k--')\n",
    "    plt.xlim([0.0, 1.0])\n",
    "    plt.ylim([0.0, 1.05])\n",
    "    plt.xlabel('False Positive Rate or [1 - True Negative Rate]')\n",
    "    plt.ylabel('True Positive Rate')\n",
    "    plt.title('Receiver operating characteristic example')\n",
    "    plt.legend(loc=\"lower right\")\n",
    "    plt.show()\n",
    "\n",
    "    return None"
   ]
  },
  {
   "cell_type": "code",
   "execution_count": null,
   "id": "5277a95c",
   "metadata": {},
   "outputs": [],
   "source": [
    "fpr, tpr, thresholds = metrics.roc_curve( y_train, X_train_pred_rd, drop_intermediate = False )"
   ]
  },
  {
   "cell_type": "code",
   "execution_count": null,
   "id": "bd0938fe",
   "metadata": {},
   "outputs": [],
   "source": [
    "draw_roc(y_train, X_train_pred_rd)"
   ]
  },
  {
   "cell_type": "markdown",
   "id": "599bb247",
   "metadata": {},
   "source": [
    "#### Observation : ROC is 0.84"
   ]
  },
  {
   "cell_type": "markdown",
   "id": "08ca0014",
   "metadata": {},
   "source": [
    "## XG-boost with PCA"
   ]
  },
  {
   "cell_type": "code",
   "execution_count": null,
   "id": "45671965",
   "metadata": {},
   "outputs": [],
   "source": [
    "# Creating a XGBoost model \n",
    "grid_xgb = [\n",
    "    { \n",
    "        'n_estimators': [1200],\n",
    "        'learning_rate': [0.01],\n",
    "        'max_depth': [4,5],\n",
    "        'min_child_weight': [2],\n",
    "        \"class_weight\":[{0:1,1:10}, 'balanced' ]\n",
    "    }    \n",
    "]\n",
    "\n",
    "gscv3 = RandomizedSearchCV(XGBClassifier(random_state = 100, tree_method='gpu_hist', predictor='gpu_predictor'), grid_xgb, cv = fold , scoring = 'accuracy', n_jobs = -1, n_iter=20)"
   ]
  },
  {
   "cell_type": "code",
   "execution_count": null,
   "id": "ba678a9c",
   "metadata": {},
   "outputs": [],
   "source": [
    "# Fitting the model on trained PCs set\n",
    "gfit_xgb = gscv3.fit(df_train_pca, y_train)"
   ]
  },
  {
   "cell_type": "code",
   "execution_count": null,
   "id": "bbf7c754",
   "metadata": {},
   "outputs": [],
   "source": [
    "# Checking score and parameter of the model\n",
    "print(\"score : {}\".format(gfit_xgb.best_score_))\n",
    "xgbparams = gfit_xgb.best_params_\n",
    "print(xgbparams)"
   ]
  },
  {
   "cell_type": "markdown",
   "id": "3e8526a6",
   "metadata": {},
   "source": [
    "#### Observation : Accuracy of xg-boost is 92.09% on train set"
   ]
  },
  {
   "cell_type": "code",
   "execution_count": null,
   "id": "80d947e9",
   "metadata": {},
   "outputs": [],
   "source": [
    "xgb_best = gfit_xgb.best_estimator_"
   ]
  },
  {
   "cell_type": "code",
   "execution_count": null,
   "id": "51d5cff8",
   "metadata": {},
   "outputs": [],
   "source": [
    "def draw_roc( actual, probs ):\n",
    "    fpr, tpr, thresholds = metrics.roc_curve( actual, probs,\n",
    "                                              drop_intermediate = False )\n",
    "    auc_score = metrics.roc_auc_score( actual, probs )\n",
    "    plt.figure(figsize=(5, 5))\n",
    "    plt.plot( fpr, tpr, label='ROC curve (area = %0.2f)' % auc_score )\n",
    "    plt.plot([0, 1], [0, 1], 'k--')\n",
    "    plt.xlim([0.0, 1.0])\n",
    "    plt.ylim([0.0, 1.05])\n",
    "    plt.xlabel('False Positive Rate or [1 - True Negative Rate]')\n",
    "    plt.ylabel('True Positive Rate')\n",
    "    plt.title('Receiver operating characteristic example')\n",
    "    plt.legend(loc=\"lower right\")\n",
    "    plt.show()\n",
    "\n",
    "    return None"
   ]
  },
  {
   "cell_type": "code",
   "execution_count": null,
   "id": "b90673e0",
   "metadata": {},
   "outputs": [],
   "source": [
    "# Finding best model\n",
    "rf_best = gfit_xgb.best_estimator_"
   ]
  },
  {
   "cell_type": "code",
   "execution_count": null,
   "id": "89b6fb04",
   "metadata": {},
   "outputs": [],
   "source": [
    "# Finding preddiction on the trainset\n",
    "X_train_pred_xgb = rf_best.predict(df_train_pca)"
   ]
  },
  {
   "cell_type": "code",
   "execution_count": null,
   "id": "2e01013d",
   "metadata": {},
   "outputs": [],
   "source": [
    "# Printing coefficient of the best fit model feature\n",
    "xgb_best.feature_importances_"
   ]
  },
  {
   "cell_type": "code",
   "execution_count": null,
   "id": "2eb1a4d4",
   "metadata": {},
   "outputs": [],
   "source": [
    "# Predicting on PCs test set\n",
    "y_pred_xgb = xgb_best.predict(df_test_pca)"
   ]
  },
  {
   "cell_type": "code",
   "execution_count": null,
   "id": "7d11ab57",
   "metadata": {},
   "outputs": [],
   "source": [
    "# Printing confusion matrix\n",
    "print(confusion_matrix(y_test, y_pred_xgb))"
   ]
  },
  {
   "cell_type": "code",
   "execution_count": null,
   "id": "650d390f",
   "metadata": {},
   "outputs": [],
   "source": [
    "#Printing model report on the train and test set after PCA\n",
    "print(classification_report(y_test, y_pred_xgb))"
   ]
  },
  {
   "cell_type": "markdown",
   "id": "2f1f434f",
   "metadata": {},
   "source": [
    "#### Observation : Accuracy of xg-boost is 92.00% on test set"
   ]
  },
  {
   "cell_type": "markdown",
   "id": "82991320",
   "metadata": {},
   "source": [
    "## Finding ROC of XGBoost + PCA model"
   ]
  },
  {
   "cell_type": "code",
   "execution_count": null,
   "id": "815b6ab8",
   "metadata": {},
   "outputs": [],
   "source": [
    "fpr, tpr, thresholds = metrics.roc_curve( y_train, X_train_pred_xgb, drop_intermediate = False )"
   ]
  },
  {
   "cell_type": "code",
   "execution_count": null,
   "id": "f2c04639",
   "metadata": {},
   "outputs": [],
   "source": [
    "draw_roc(y_train, X_train_pred_xgb)"
   ]
  },
  {
   "cell_type": "markdown",
   "id": "9c7da144",
   "metadata": {},
   "source": [
    "#### Observation : ROC is 0.75"
   ]
  },
  {
   "cell_type": "markdown",
   "id": "4102266c",
   "metadata": {},
   "source": [
    "## Logistic regression without PCA (using RFE)"
   ]
  },
  {
   "cell_type": "code",
   "execution_count": null,
   "id": "a2e0f0be",
   "metadata": {},
   "outputs": [],
   "source": [
    "# Importing module\n",
    "from sklearn.linear_model import LogisticRegression\n",
    "lr = LogisticRegression()"
   ]
  },
  {
   "cell_type": "code",
   "execution_count": null,
   "id": "e2b573c8",
   "metadata": {},
   "outputs": [],
   "source": [
    "# performing RFE on 50 features\n",
    "from sklearn.feature_selection import RFE\n",
    "rfe = RFE(lr, n_features_to_select=50)            \n",
    "rfe = rfe.fit(X_train_sc, y_train)"
   ]
  },
  {
   "cell_type": "code",
   "execution_count": null,
   "id": "0d7de527",
   "metadata": {
    "scrolled": false
   },
   "outputs": [],
   "source": [
    "# Printing all the features with it's rank after RFE\n",
    "list(zip(X_train.columns, rfe.support_, rfe.ranking_))"
   ]
  },
  {
   "cell_type": "code",
   "execution_count": null,
   "id": "f09312a3",
   "metadata": {},
   "outputs": [],
   "source": [
    "# Listing top 50 columns after RFE\n",
    "col = X_train.columns[rfe.support_]\n",
    "col"
   ]
  },
  {
   "cell_type": "code",
   "execution_count": null,
   "id": "ddaa7bf6",
   "metadata": {},
   "outputs": [],
   "source": [
    "# Creating a new X-train with to 50 features after RFE\n",
    "X_train_rfe = X_train[col]"
   ]
  },
  {
   "cell_type": "code",
   "execution_count": null,
   "id": "4e1873a5",
   "metadata": {},
   "outputs": [],
   "source": [
    "# Checking shape of new X-train set\n",
    "X_train_rfe.shape"
   ]
  },
  {
   "cell_type": "code",
   "execution_count": null,
   "id": "c6dfff5c",
   "metadata": {},
   "outputs": [],
   "source": [
    "# Hyperparameter tuning with Logistic Regression"
   ]
  },
  {
   "cell_type": "code",
   "execution_count": null,
   "id": "82856d95",
   "metadata": {},
   "outputs": [],
   "source": [
    "grid_LR = [\n",
    "    {    \"penalty\":['l1','l2'],\n",
    "        \"class_weight\":[{0:1,1:1}, {0:1,1:2}, {0:1,1:3}]\n",
    "    }    \n",
    "]\n",
    "\n",
    "gscv = GridSearchCV(LogisticRegression(solver='lbfgs'), grid_LR, cv = fold , scoring = 'accuracy', verbose = 1, n_jobs = -1)"
   ]
  },
  {
   "cell_type": "code",
   "execution_count": null,
   "id": "bfde0f9d",
   "metadata": {},
   "outputs": [],
   "source": [
    "# Fitting the model on train set\n",
    "gfit_LR = gscv.fit(X_train_rfe, y_train)"
   ]
  },
  {
   "cell_type": "code",
   "execution_count": null,
   "id": "685e6539",
   "metadata": {},
   "outputs": [],
   "source": [
    "# Checking score and parameter of the model\n",
    "print(\"score : {}\".format(gfit_LR.best_score_))\n",
    "logistic_params = gfit_LR.best_params_\n",
    "print(logistic_params)"
   ]
  },
  {
   "cell_type": "markdown",
   "id": "a6454f20",
   "metadata": {},
   "source": [
    "#### Observation : accuracy of logistic regression using RfE is 93.30% on train set"
   ]
  },
  {
   "cell_type": "code",
   "execution_count": null,
   "id": "78ef1b7a",
   "metadata": {},
   "outputs": [],
   "source": [
    "# Finding  best estimator\n",
    "LR_best = gfit_LR.best_estimator_"
   ]
  },
  {
   "cell_type": "code",
   "execution_count": null,
   "id": "fbbfa659",
   "metadata": {},
   "outputs": [],
   "source": [
    "# Finding  best estimator\n",
    "lr_best_2 = gfit_LR.best_estimator_"
   ]
  },
  {
   "cell_type": "code",
   "execution_count": null,
   "id": "3572361a",
   "metadata": {},
   "outputs": [],
   "source": [
    "# Predicting on train set\n",
    "X_train_pred_rfe = lr_best_2.predict(X_train_rfe)"
   ]
  },
  {
   "cell_type": "code",
   "execution_count": null,
   "id": "bf155f50",
   "metadata": {},
   "outputs": [],
   "source": [
    "X_test_new = X_test[X_train_rfe.columns]"
   ]
  },
  {
   "cell_type": "code",
   "execution_count": null,
   "id": "78f0ad56",
   "metadata": {},
   "outputs": [],
   "source": [
    "y_pred_lr = lr_best_2.predict(X_test_new)"
   ]
  },
  {
   "cell_type": "code",
   "execution_count": null,
   "id": "4c1d6602",
   "metadata": {},
   "outputs": [],
   "source": [
    "print(classification_report(y_test, y_pred_lr))"
   ]
  },
  {
   "cell_type": "markdown",
   "id": "d8c22d66",
   "metadata": {},
   "source": [
    "#### Observation : Accuracy of logistic regression using RFE is 93.00% on test set"
   ]
  },
  {
   "cell_type": "markdown",
   "id": "3f89046e",
   "metadata": {},
   "source": [
    "## Finding ROC of Logistic + RFE model"
   ]
  },
  {
   "cell_type": "code",
   "execution_count": null,
   "id": "c54fdc20",
   "metadata": {},
   "outputs": [],
   "source": [
    "def draw_roc( actual, probs ):\n",
    "    fpr, tpr, thresholds = metrics.roc_curve( actual, probs,\n",
    "                                              drop_intermediate = False )\n",
    "    auc_score = metrics.roc_auc_score( actual, probs )\n",
    "    plt.figure(figsize=(5, 5))\n",
    "    plt.plot( fpr, tpr, label='ROC curve (area = %0.2f)' % auc_score )\n",
    "    plt.plot([0, 1], [0, 1], 'k--')\n",
    "    plt.xlim([0.0, 1.0])\n",
    "    plt.ylim([0.0, 1.05])\n",
    "    plt.xlabel('False Positive Rate or [1 - True Negative Rate]')\n",
    "    plt.ylabel('True Positive Rate')\n",
    "    plt.title('Receiver operating characteristic example')\n",
    "    plt.legend(loc=\"lower right\")\n",
    "    plt.show()\n",
    "\n",
    "    return None"
   ]
  },
  {
   "cell_type": "code",
   "execution_count": null,
   "id": "7fdcca96",
   "metadata": {},
   "outputs": [],
   "source": [
    "fpr, tpr, thresholds = metrics.roc_curve( y_train, X_train_pred_rfe, drop_intermediate = False )"
   ]
  },
  {
   "cell_type": "code",
   "execution_count": null,
   "id": "bef0c1c9",
   "metadata": {},
   "outputs": [],
   "source": [
    "draw_roc(y_train, X_train_pred_rfe)"
   ]
  },
  {
   "cell_type": "markdown",
   "id": "8c437b13",
   "metadata": {},
   "source": [
    "#### Observation : ROC is 0.71"
   ]
  },
  {
   "cell_type": "code",
   "execution_count": null,
   "id": "ca266799",
   "metadata": {},
   "outputs": [],
   "source": [
    "# top 10 features\n",
    "LR_result = pd.DataFrame(lr_best_2.coef_.reshape(50,1), index = col, columns = ['Coef'])\n",
    "LR_result.sort_values(by = 'Coef', key = abs, ascending = False).head(10)"
   ]
  },
  {
   "cell_type": "markdown",
   "id": "d7e8bb6d",
   "metadata": {},
   "source": [
    "## Random forest without PCA (using RFE)"
   ]
  },
  {
   "cell_type": "code",
   "execution_count": null,
   "id": "affa3162",
   "metadata": {},
   "outputs": [],
   "source": [
    "grid_RD = [\n",
    "    {   'n_estimators' : [250],\n",
    "        'max_depth' : [ 7], \n",
    "        'max_features' : [20],\n",
    "        'min_samples_split':[ 4],\n",
    "    }    \n",
    "]\n",
    "\n",
    "gscv2 = RandomizedSearchCV(RandomForestClassifier(random_state = 100, class_weight = 'balanced'), grid_RD, cv = fold , scoring = 'accuracy', verbose = 1, n_jobs = -1)"
   ]
  },
  {
   "cell_type": "code",
   "execution_count": null,
   "id": "bc9c48c1",
   "metadata": {},
   "outputs": [],
   "source": [
    "# Fitting model on train set\n",
    "gfit_RD = gscv2.fit(X_train_rfe, y_train)"
   ]
  },
  {
   "cell_type": "code",
   "execution_count": null,
   "id": "51fc69b7",
   "metadata": {},
   "outputs": [],
   "source": [
    "# Checking score and parameter of the model\n",
    "print(\"score : {}\".format(gfit_RD.best_score_))\n",
    "gfit_RD.best_params_"
   ]
  },
  {
   "cell_type": "markdown",
   "id": "51e4aa9a",
   "metadata": {},
   "source": [
    "#### Observation : Accuracy of ranfom forest using RFE is 91.26% on test set"
   ]
  },
  {
   "cell_type": "code",
   "execution_count": null,
   "id": "d3c1d6a0",
   "metadata": {},
   "outputs": [],
   "source": [
    "# Finding best estimator\n",
    "rd_best_2 = gfit_RD.best_estimator_"
   ]
  },
  {
   "cell_type": "code",
   "execution_count": null,
   "id": "cc4673f3",
   "metadata": {},
   "outputs": [],
   "source": [
    "# Predcting on train set\n",
    "X_train_pred_rfe_rd = rd_best_2.predict(X_train_rfe)"
   ]
  },
  {
   "cell_type": "code",
   "execution_count": null,
   "id": "a2cdc6cf",
   "metadata": {},
   "outputs": [],
   "source": [
    "# Creating new test set based on top RFE columns\n",
    "X_test_new = X_test[X_train_rfe.columns]"
   ]
  },
  {
   "cell_type": "code",
   "execution_count": null,
   "id": "73c0250b",
   "metadata": {},
   "outputs": [],
   "source": [
    "# Predicting on test set\n",
    "y_pred_rd = rd_best_2.predict(X_test_new)"
   ]
  },
  {
   "cell_type": "code",
   "execution_count": null,
   "id": "0eb9bb5e",
   "metadata": {},
   "outputs": [],
   "source": [
    "# Printing coefficient of the best fit model\n",
    "print(classification_report(y_test, y_pred_rd))"
   ]
  },
  {
   "cell_type": "markdown",
   "id": "7680f08c",
   "metadata": {},
   "source": [
    "#### Observation : Accuracy of random forest using RFE is 91.00% on test set"
   ]
  },
  {
   "cell_type": "code",
   "execution_count": null,
   "id": "c02a9458",
   "metadata": {},
   "outputs": [],
   "source": [
    "def draw_roc( actual, probs ):\n",
    "    fpr, tpr, thresholds = metrics.roc_curve( actual, probs,\n",
    "                                              drop_intermediate = False )\n",
    "    auc_score = metrics.roc_auc_score( actual, probs )\n",
    "    plt.figure(figsize=(5, 5))\n",
    "    plt.plot( fpr, tpr, label='ROC curve (area = %0.2f)' % auc_score )\n",
    "    plt.plot([0, 1], [0, 1], 'k--')\n",
    "    plt.xlim([0.0, 1.0])\n",
    "    plt.ylim([0.0, 1.05])\n",
    "    plt.xlabel('False Positive Rate or [1 - True Negative Rate]')\n",
    "    plt.ylabel('True Positive Rate')\n",
    "    plt.title('Receiver operating characteristic example')\n",
    "    plt.legend(loc=\"lower right\")\n",
    "    plt.show()\n",
    "\n",
    "    return None"
   ]
  },
  {
   "cell_type": "code",
   "execution_count": null,
   "id": "7b782e61",
   "metadata": {},
   "outputs": [],
   "source": [
    "fpr, tpr, thresholds = metrics.roc_curve( y_train, X_train_pred_rfe_rd, drop_intermediate = False )"
   ]
  },
  {
   "cell_type": "code",
   "execution_count": null,
   "id": "4e2ca972",
   "metadata": {},
   "outputs": [],
   "source": [
    "draw_roc(y_train, X_train_pred_rfe_rd)"
   ]
  },
  {
   "cell_type": "markdown",
   "id": "57c37c56",
   "metadata": {},
   "source": [
    "#### Observation : ROC is 0.89"
   ]
  },
  {
   "cell_type": "code",
   "execution_count": null,
   "id": "b6bb11d2",
   "metadata": {},
   "outputs": [],
   "source": [
    "# top 20 features"
   ]
  },
  {
   "cell_type": "code",
   "execution_count": null,
   "id": "63ac9a83",
   "metadata": {},
   "outputs": [],
   "source": [
    "rf_df = pd.DataFrame({'feature' : X_train_rfe.columns, 'importance' : rd_best_2.feature_importances_})\n",
    "rf_df = rf_df.sort_values(by = 'importance', ascending = False).head(20)\n",
    "fig = plt.figure(figsize = (12, 9))\n",
    "sns.barplot(data = rf_df, y = 'feature', x = 'importance')\n",
    "plt.show()"
   ]
  },
  {
   "cell_type": "markdown",
   "id": "aa2138df",
   "metadata": {},
   "source": [
    "## Prediction on test set"
   ]
  },
  {
   "cell_type": "code",
   "execution_count": null,
   "id": "0bd23b36",
   "metadata": {},
   "outputs": [],
   "source": [
    "df_test = scaler.transform(df_test)"
   ]
  },
  {
   "cell_type": "code",
   "execution_count": null,
   "id": "27f7b741",
   "metadata": {},
   "outputs": [],
   "source": [
    "df_test_pca = pca_avg.transform(df_test)"
   ]
  },
  {
   "cell_type": "code",
   "execution_count": null,
   "id": "72487909",
   "metadata": {},
   "outputs": [],
   "source": [
    "y_pred_final = xgb_best.predict(df_test_pca)"
   ]
  },
  {
   "cell_type": "code",
   "execution_count": null,
   "id": "5330edbd",
   "metadata": {},
   "outputs": [],
   "source": [
    "sample = pd.read_csv('sample.csv')\n",
    "sample.head()"
   ]
  },
  {
   "cell_type": "code",
   "execution_count": null,
   "id": "4c0cd51d",
   "metadata": {},
   "outputs": [],
   "source": [
    "sample['churn_probability'] = y_pred_final"
   ]
  },
  {
   "cell_type": "code",
   "execution_count": null,
   "id": "95bf59cf",
   "metadata": {},
   "outputs": [],
   "source": [
    "sample['churn_probability'].value_counts()"
   ]
  },
  {
   "cell_type": "code",
   "execution_count": null,
   "id": "99fb8976",
   "metadata": {},
   "outputs": [],
   "source": [
    "submission = sample.to_csv('submissions.csv', index=False)"
   ]
  },
  {
   "cell_type": "code",
   "execution_count": null,
   "id": "077c5a80",
   "metadata": {},
   "outputs": [],
   "source": [
    "sample.head()"
   ]
  },
  {
   "cell_type": "code",
   "execution_count": null,
   "id": "ab1a910a",
   "metadata": {},
   "outputs": [],
   "source": []
  },
  {
   "cell_type": "code",
   "execution_count": null,
   "id": "44f2e96a",
   "metadata": {},
   "outputs": [],
   "source": []
  },
  {
   "cell_type": "code",
   "execution_count": null,
   "id": "2fba01ae",
   "metadata": {},
   "outputs": [],
   "source": []
  }
 ],
 "metadata": {
  "kernelspec": {
   "display_name": "Python 3 (ipykernel)",
   "language": "python",
   "name": "python3"
  },
  "language_info": {
   "codemirror_mode": {
    "name": "ipython",
    "version": 3
   },
   "file_extension": ".py",
   "mimetype": "text/x-python",
   "name": "python",
   "nbconvert_exporter": "python",
   "pygments_lexer": "ipython3",
   "version": "3.9.7"
  }
 },
 "nbformat": 4,
 "nbformat_minor": 5
}
